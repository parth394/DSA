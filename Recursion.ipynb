{
 "cells": [
  {
   "cell_type": "markdown",
   "metadata": {},
   "source": [
    "# Recursion"
   ]
  },
  {
   "cell_type": "markdown",
   "metadata": {},
   "source": [
    "## Sort an Array"
   ]
  },
  {
   "cell_type": "code",
   "execution_count": 11,
   "metadata": {},
   "outputs": [
    {
     "data": {
      "text/plain": [
       "[1, 3, 4, 8, 9, 10]"
      ]
     },
     "execution_count": 11,
     "metadata": {},
     "output_type": "execute_result"
    }
   ],
   "source": [
    "def insertSortArray(arr: list[int], ele: int):\n",
    "    n = len(arr)\n",
    "    if n==0 or arr[n-1]<=ele:\n",
    "        arr.append(ele)\n",
    "        return\n",
    "    val = arr[n-1]\n",
    "    arr.pop(n-1)\n",
    "    insertSortArray(arr, ele)\n",
    "    arr.append(val)\n",
    "def sortArray(arr: list[int]):\n",
    "    # base condition\n",
    "    n = len(arr)\n",
    "    if n == 1:\n",
    "        return\n",
    "    temp = arr[n-1]\n",
    "    arr.pop(n-1)\n",
    "    sortArray(arr)\n",
    "    insertSortArray(arr, temp)\n",
    "arr = [3, 10, 8, 9, 1, 4]\n",
    "sortArray(arr)\n",
    "arr"
   ]
  },
  {
   "cell_type": "markdown",
   "metadata": {},
   "source": [
    "## Sort a Stack"
   ]
  },
  {
   "cell_type": "code",
   "execution_count": 14,
   "metadata": {},
   "outputs": [
    {
     "data": {
      "text/plain": [
       "[1, 3, 4, 8, 9, 10]"
      ]
     },
     "execution_count": 14,
     "metadata": {},
     "output_type": "execute_result"
    }
   ],
   "source": [
    "def insertSortStack(arr: list[int], ele: int):\n",
    "    n = len(arr)\n",
    "    if n==0 or arr[n-1]<=ele:\n",
    "        arr.append(ele)\n",
    "        return\n",
    "    val = arr[n-1]\n",
    "    arr.pop(n-1)\n",
    "    insertSortStack(arr, ele)\n",
    "    arr.append(val)\n",
    "\n",
    "def sortStack(stk: list[int]):\n",
    "    n = len(stk)\n",
    "    if n == 1: \n",
    "        return\n",
    "    temp = stk[n-1]\n",
    "    stk.pop(n-1)\n",
    "    sortStack(stk)\n",
    "    insertSortStack(stk, temp)\n",
    "arr = [3, 10, 8, 9, 1, 4]\n",
    "sortStack(arr)\n",
    "arr"
   ]
  },
  {
   "cell_type": "markdown",
   "metadata": {},
   "source": [
    "## Delete a middle element of a stack"
   ]
  },
  {
   "cell_type": "code",
   "execution_count": 16,
   "metadata": {},
   "outputs": [
    {
     "data": {
      "text/plain": [
       "[3, 10, 8, 1, 4]"
      ]
     },
     "execution_count": 16,
     "metadata": {},
     "output_type": "execute_result"
    }
   ],
   "source": [
    "def delElementStack(stk: list[int], k: int):\n",
    "    n = len(stk)\n",
    "    if k == 1:\n",
    "        stk.pop()\n",
    "        return\n",
    "    temp = stk[n-1]\n",
    "    stk.pop(n-1)\n",
    "    delElementStack(stk, k-1)\n",
    "    stk.append(temp)\n",
    "arr = [3, 10, 8, 9, 1, 4]\n",
    "delElementStack(arr, 3)\n",
    "arr"
   ]
  },
  {
   "cell_type": "markdown",
   "metadata": {},
   "source": [
    "## Reverse a stack"
   ]
  },
  {
   "cell_type": "code",
   "execution_count": 19,
   "metadata": {},
   "outputs": [
    {
     "data": {
      "text/plain": [
       "[4, 1, 9, 8, 10, 3]"
      ]
     },
     "execution_count": 19,
     "metadata": {},
     "output_type": "execute_result"
    }
   ],
   "source": [
    "def insertReverseStack(stk: list[int], ele: int):\n",
    "    n = len(stk)\n",
    "    if n==0:\n",
    "        stk.append(ele)\n",
    "        return\n",
    "    val = stk[n-1]\n",
    "    stk.pop(n-1)\n",
    "    insertReverseStack(stk, ele)\n",
    "    stk.append(val)\n",
    "\n",
    "def reverseStack(stk: list[int]):\n",
    "    n = len(stk)\n",
    "    if n == 1:\n",
    "        return \n",
    "    temp = stk[n-1]\n",
    "    stk.pop(n-1)\n",
    "    reverseStack(stk)\n",
    "    insertReverseStack(stk, temp)\n",
    "arr = [3, 10, 8, 9, 1, 4]\n",
    "reverseStack(arr)\n",
    "arr"
   ]
  },
  {
   "cell_type": "markdown",
   "metadata": {},
   "source": [
    "### Print All Subset"
   ]
  },
  {
   "cell_type": "code",
   "execution_count": 24,
   "metadata": {},
   "outputs": [
    {
     "name": "stdout",
     "output_type": "stream",
     "text": [
      "\n",
      "c\n",
      "b\n",
      "bc\n",
      "a\n",
      "ac\n",
      "ab\n",
      "abc\n"
     ]
    }
   ],
   "source": [
    "def allSubset(s: str, op: str):\n",
    "    n = len(s)\n",
    "    if n == 0:\n",
    "        print(op)\n",
    "        return\n",
    "    # Do not choose option\n",
    "    op1 = op\n",
    "    # Choose Option\n",
    "    op2 = op + s[0]\n",
    "    s = s[1:]\n",
    "    allSubset(s, op1)\n",
    "    allSubset(s, op2)\n",
    "\n",
    "s = \"abc\"\n",
    "op = \"\"\n",
    "allSubset(s, op)"
   ]
  },
  {
   "cell_type": "markdown",
   "metadata": {},
   "source": [
    "### Print All Unique Subsets"
   ]
  },
  {
   "cell_type": "code",
   "execution_count": 20,
   "metadata": {},
   "outputs": [
    {
     "data": {
      "text/plain": [
       "['', 'c', 'b', 'bc', 'a', 'ac', 'ab', 'abc', 'aa', 'aac', 'aab', 'aabc']"
      ]
     },
     "execution_count": 20,
     "metadata": {},
     "output_type": "execute_result"
    }
   ],
   "source": [
    "def allUniqueSubsets(s: str, op: str, mapping: dict):\n",
    "    n = len(s)\n",
    "    if n == 0:\n",
    "        mapping[op] = mapping.get(op, 0) + 1\n",
    "        return\n",
    "    op1 = op\n",
    "    op2 = op + s[0]\n",
    "    s = s[1:]\n",
    "    allUniqueSubsets(s, op1, mapping)\n",
    "    allUniqueSubsets(s, op2, mapping)\n",
    "    return list(mapping)\n",
    "s = \"aabc\"\n",
    "mapping = {}\n",
    "op=\"\"\n",
    "allUniqueSubsets(s, op, mapping)"
   ]
  },
  {
   "cell_type": "markdown",
   "metadata": {},
   "source": [
    "### Permutation With spaces"
   ]
  },
  {
   "cell_type": "code",
   "execution_count": 26,
   "metadata": {},
   "outputs": [
    {
     "name": "stdout",
     "output_type": "stream",
     "text": [
      "abc\n",
      "ab_c\n",
      "a_bc\n",
      "a_b_c\n"
     ]
    }
   ],
   "source": [
    "def solve(s: str, op: str):\n",
    "    n = len(s)\n",
    "    if n == 0:\n",
    "        print(op)\n",
    "        return \n",
    "    op1 = op + s[0]\n",
    "    op2 = op + \"_\" + s[0]\n",
    "    s = s[1:]\n",
    "    solve(s, op1)\n",
    "    solve(s, op2)\n",
    "\n",
    "def spacePermutation(s: str):\n",
    "    op = s[0]\n",
    "    s = s[1:]\n",
    "    solve(s, op)\n",
    "s = \"abc\"\n",
    "spacePermutation(s)"
   ]
  },
  {
   "cell_type": "markdown",
   "metadata": {},
   "source": [
    "### Permutation with cases"
   ]
  },
  {
   "cell_type": "code",
   "execution_count": 28,
   "metadata": {},
   "outputs": [
    {
     "name": "stdout",
     "output_type": "stream",
     "text": [
      "abc\n",
      "abC\n",
      "aBc\n",
      "aBC\n",
      "Abc\n",
      "AbC\n",
      "ABc\n",
      "ABC\n"
     ]
    }
   ],
   "source": [
    "def permSpaces(s: str, op: str=\"\"):\n",
    "    n = len(s)\n",
    "    if n == 0:\n",
    "        print(op)\n",
    "        return\n",
    "    op1 = op + s[0]\n",
    "    op2 = op + s[0].upper()\n",
    "    s = s[1:]\n",
    "    permSpaces(s, op1)\n",
    "    permSpaces(s, op2)\n",
    "s = \"abc\"\n",
    "permSpaces(s)"
   ]
  },
  {
   "cell_type": "markdown",
   "metadata": {},
   "source": [
    "### Letter Change Permutation"
   ]
  },
  {
   "cell_type": "code",
   "execution_count": 30,
   "metadata": {},
   "outputs": [
    {
     "name": "stdout",
     "output_type": "stream",
     "text": [
      "A1b2\n",
      "A1B2\n",
      "a1b2\n",
      "a1B2\n"
     ]
    }
   ],
   "source": [
    "def letterChangePermutation(s: str, op: str= \"\"):\n",
    "    n = len(s)\n",
    "    if n == 0:\n",
    "        print(op)\n",
    "        return\n",
    "    temp = s[0]\n",
    "    if not temp.isdigit():\n",
    "        if temp.isupper():\n",
    "            temp = temp.lower()\n",
    "        else:\n",
    "            temp = temp.upper()\n",
    "        op1 = op + temp\n",
    "        op2 = op + s[0]\n",
    "        s = s[1:]\n",
    "        letterChangePermutation(s, op1)\n",
    "        letterChangePermutation(s, op2)\n",
    "    else:\n",
    "        op1 = op + temp\n",
    "        s = s[1:]\n",
    "        letterChangePermutation(s, op1) \n",
    "\n",
    "s = \"a1B2\"\n",
    "letterChangePermutation(s)"
   ]
  },
  {
   "cell_type": "markdown",
   "metadata": {},
   "source": [
    "### Generate Balanced Parenthesis"
   ]
  },
  {
   "cell_type": "code",
   "execution_count": 38,
   "metadata": {},
   "outputs": [
    {
     "name": "stdout",
     "output_type": "stream",
     "text": [
      "((()))\n",
      "(()())\n",
      "(())()\n",
      "()(())\n",
      "()()()\n"
     ]
    }
   ],
   "source": [
    "def solve(open: int, close: int, op: str):\n",
    "    # print(f\"Current open => {open}, close => {close} op => {op}\")\n",
    "    if open==0 and close==0:\n",
    "        print(op)\n",
    "        return\n",
    "    if open!=0:\n",
    "        op1 = op + \"(\"\n",
    "        solve(open-1, close, op1)\n",
    "    if close>open:\n",
    "        op2 = op + \")\"\n",
    "        solve(open, close-1, op2)\n",
    "    return\n",
    "\n",
    "def balancedParenthesis(n: int):\n",
    "    open = n\n",
    "    close = n\n",
    "    op=\"\"\n",
    "    solve(open, close, op)\n",
    "n=3\n",
    "balancedParenthesis(n)"
   ]
  },
  {
   "cell_type": "markdown",
   "metadata": {},
   "source": [
    "### Print N-bit binary number having more 1's than 0's in prefix"
   ]
  },
  {
   "cell_type": "code",
   "execution_count": 40,
   "metadata": {},
   "outputs": [
    {
     "name": "stdout",
     "output_type": "stream",
     "text": [
      "111\n",
      "110\n",
      "101\n"
     ]
    }
   ],
   "source": [
    "def nBinary(n: int):\n",
    "    def solve(ones, zeros, n, op):\n",
    "        if n==0:\n",
    "            print(op)\n",
    "            return\n",
    "        op1 = op + \"1\"\n",
    "        solve(ones+1, zeros, n-1, op1)\n",
    "        if ones > zeros:\n",
    "            solve(ones, zeros+1, n-1, op+\"0\")\n",
    "    zeros=ones=0\n",
    "    op = \"\"\n",
    "    solve(ones, zeros, n, op)\n",
    "n =3\n",
    "nBinary(n)"
   ]
  },
  {
   "cell_type": "markdown",
   "metadata": {},
   "source": [
    "### Joshephus Problem"
   ]
  },
  {
   "cell_type": "code",
   "execution_count": 44,
   "metadata": {},
   "outputs": [
    {
     "name": "stdout",
     "output_type": "stream",
     "text": [
      "24\n"
     ]
    }
   ],
   "source": [
    "def joshephusProblem(n: int, k: int):\n",
    "    def solve(arr: list[int], k: int, index: int):\n",
    "        n = len(arr)\n",
    "        if n == 1:\n",
    "            print(arr[0])\n",
    "            return\n",
    "        index = (index + k-1 ) % n\n",
    "        arr.pop(index)\n",
    "        solve(arr, k, index) \n",
    "    arr = [i+1 for i in range(n)]\n",
    "    index = 0\n",
    "    solve(arr, k, index)\n",
    "n = 40\n",
    "k = 7\n",
    "joshephusProblem(n, k)"
   ]
  }
 ],
 "metadata": {
  "kernelspec": {
   "display_name": "base",
   "language": "python",
   "name": "python3"
  },
  "language_info": {
   "codemirror_mode": {
    "name": "ipython",
    "version": 3
   },
   "file_extension": ".py",
   "mimetype": "text/x-python",
   "name": "python",
   "nbconvert_exporter": "python",
   "pygments_lexer": "ipython3",
   "version": "3.11.5"
  }
 },
 "nbformat": 4,
 "nbformat_minor": 2
}
