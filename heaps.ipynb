{
 "cells": [
  {
   "cell_type": "markdown",
   "metadata": {},
   "source": [
    "# Heaps"
   ]
  },
  {
   "cell_type": "code",
   "execution_count": 3,
   "metadata": {},
   "outputs": [],
   "source": [
    "import heapq"
   ]
  },
  {
   "cell_type": "markdown",
   "metadata": {},
   "source": [
    "## Kth Smallest Element"
   ]
  },
  {
   "cell_type": "code",
   "execution_count": 4,
   "metadata": {},
   "outputs": [
    {
     "data": {
      "text/plain": [
       "7"
      ]
     },
     "execution_count": 4,
     "metadata": {},
     "output_type": "execute_result"
    }
   ],
   "source": [
    "def kthSmallest(arr: list[int], k: int)-> int:\n",
    "    maxh = []\n",
    "    for ele in arr:\n",
    "        heapq.heappush(maxh, -1*ele)\n",
    "        if len(maxh)>k:\n",
    "            heapq.heappop(maxh)\n",
    "    return -1*maxh[0]\n",
    "arr = [7,10, 4, 3, 20, 15]\n",
    "k = 3\n",
    "kthSmallest(arr, k)"
   ]
  },
  {
   "cell_type": "markdown",
   "metadata": {},
   "source": [
    "## Kth Largest Elements in Array"
   ]
  },
  {
   "cell_type": "code",
   "execution_count": 5,
   "metadata": {},
   "outputs": [
    {
     "name": "stdout",
     "output_type": "stream",
     "text": [
      "10\n",
      "15\n",
      "20\n"
     ]
    }
   ],
   "source": [
    "def kthLargestElements(arr: list[int], k: int)-> None:\n",
    "    minh  = []\n",
    "\n",
    "    for ele in arr:\n",
    "        heapq.heappush(minh, ele)\n",
    "        if len(minh) > k:\n",
    "            heapq.heappop(minh)\n",
    "    while len(minh)>0:\n",
    "        print(minh[0])\n",
    "        minh.pop(0)\n",
    "arr = [7, 10, 4, 3, 20, 15]\n",
    "k = 3\n",
    "kthLargestElements(arr, k)"
   ]
  },
  {
   "cell_type": "markdown",
   "metadata": {},
   "source": [
    "## Sort k Sorted Array || Nearly Sorted Array"
   ]
  },
  {
   "cell_type": "code",
   "execution_count": 6,
   "metadata": {},
   "outputs": [
    {
     "data": {
      "text/plain": [
       "[2, 3, 5, 6, 8, 9, 10]"
      ]
     },
     "execution_count": 6,
     "metadata": {},
     "output_type": "execute_result"
    }
   ],
   "source": [
    "def kSortedArray(arr: list[int], k: int)-> list[int]:\n",
    "    minh = []\n",
    "    final = []\n",
    "    for ele in arr:\n",
    "        heapq.heappush(minh, ele)\n",
    "        if len(minh) > k:\n",
    "            final.append(heapq.heappop(minh))\n",
    "    while len(minh)>0:\n",
    "        final.append(minh.pop(0))\n",
    "    return final\n",
    "arr = [6, 5, 3, 2, 8, 10, 9]\n",
    "k = 3\n",
    "kSortedArray(arr, k)"
   ]
  },
  {
   "cell_type": "markdown",
   "metadata": {},
   "source": [
    "## K Closest Number"
   ]
  },
  {
   "cell_type": "code",
   "execution_count": 7,
   "metadata": {},
   "outputs": [
    {
     "name": "stdout",
     "output_type": "stream",
     "text": [
      "6\n",
      "8\n",
      "7\n"
     ]
    }
   ],
   "source": [
    "def kClosestNumber(arr: list[int], k: int, x:int)-> None:\n",
    "    maxh = []\n",
    "    for ele in arr:\n",
    "        heapq.heappush(maxh, (-1* abs(ele-x), ele))\n",
    "        if len(maxh)>k:\n",
    "            heapq.heappop(maxh)\n",
    "    while len(maxh)>0:\n",
    "        _, ele = maxh.pop(0)\n",
    "        print(ele)\n",
    "\n",
    "arr = [5, 6, 7, 8, 9]\n",
    "k = 3\n",
    "x = 7\n",
    "kClosestNumber(arr, k, x)"
   ]
  },
  {
   "cell_type": "markdown",
   "metadata": {},
   "source": [
    "## Top k Frequent Numbers"
   ]
  },
  {
   "cell_type": "code",
   "execution_count": 8,
   "metadata": {},
   "outputs": [
    {
     "name": "stdout",
     "output_type": "stream",
     "text": [
      "[(2, 2), (3, 1)]\n",
      "2\n",
      "1\n"
     ]
    }
   ],
   "source": [
    "def kFrequentNumbers(arr: list[int], k: int)-> None:\n",
    "    mapping = {}\n",
    "    for ele in arr:\n",
    "        mapping[ele] = mapping.get(ele,0)+1\n",
    "    minh = []\n",
    "    for key,val in mapping.items():\n",
    "        heapq.heappush(minh, (val, key))\n",
    "        if len(minh)>k:\n",
    "            heapq.heappop(minh)\n",
    "    print(minh)\n",
    "    while len(minh)>0:\n",
    "        _, ele = minh.pop(0)\n",
    "        print(ele)\n",
    "\n",
    "arr = [1, 1, 1, 3, 2, 2, 4]\n",
    "k = 2\n",
    "kFrequentNumbers(arr, k)"
   ]
  },
  {
   "cell_type": "markdown",
   "metadata": {},
   "source": [
    "## Frequency Sort"
   ]
  },
  {
   "cell_type": "code",
   "execution_count": 9,
   "metadata": {},
   "outputs": [
    {
     "data": {
      "text/plain": [
       "[1, 1, 1, 2, 2, 3, 4]"
      ]
     },
     "execution_count": 9,
     "metadata": {},
     "output_type": "execute_result"
    }
   ],
   "source": [
    "def frequencySort(arr: list[int])-> list[int]:\n",
    "    final = []\n",
    "    m = {}\n",
    "    for ele in arr:\n",
    "        m[ele] = m.get(ele, 0) + 1\n",
    "    maxh=[]\n",
    "    for k,v in m.items():\n",
    "        heapq.heappush(maxh, (-1*v, k))\n",
    "    while len(maxh)>0:\n",
    "        v, k = heapq.heappop(maxh)\n",
    "        v = -1*v\n",
    "        while v>0:\n",
    "            final.append(k)\n",
    "            v-=1\n",
    "    return final\n",
    "\n",
    "arr = [1, 1, 1, 3, 2, 2, 4]\n",
    "frequencySort(arr)"
   ]
  },
  {
   "cell_type": "markdown",
   "metadata": {},
   "source": [
    "## K Closest Point to Origin"
   ]
  },
  {
   "cell_type": "code",
   "execution_count": 10,
   "metadata": {},
   "outputs": [
    {
     "name": "stdout",
     "output_type": "stream",
     "text": [
      "(-2, 2)\n",
      "(0, 1)\n"
     ]
    }
   ],
   "source": [
    "def kClosestPointToOrigin(arr: list[list[int]], k: int)-> None:\n",
    "    maxh = []\n",
    "    for cord in arr:\n",
    "        x = cord[0]\n",
    "        y = cord[1]\n",
    "        dist = x**2+ y**2\n",
    "        heapq.heappush(maxh, (-1*dist, (x,y)))\n",
    "        if len(maxh)>k:\n",
    "            heapq.heappop(maxh)\n",
    "    while len(maxh)> 0:\n",
    "        _, cord = maxh.pop(0)\n",
    "        print(cord)\n",
    "arr = [[1,3], [-2, 2], [5, 8], [0,1]]\n",
    "k = 2\n",
    "kClosestPointToOrigin(arr, k)"
   ]
  },
  {
   "cell_type": "markdown",
   "metadata": {},
   "source": [
    "## Convert Ropes to Minimize the cost"
   ]
  },
  {
   "cell_type": "code",
   "execution_count": 11,
   "metadata": {},
   "outputs": [
    {
     "data": {
      "text/plain": [
       "33"
      ]
     },
     "execution_count": 11,
     "metadata": {},
     "output_type": "execute_result"
    }
   ],
   "source": [
    "def minRopeCost(arr: list[int])-> int:\n",
    "    minh = []\n",
    "    cost = 0\n",
    "    for rope_piece in arr:\n",
    "        heapq.heappush(minh, rope_piece)\n",
    "    while len(minh)>1:\n",
    "        piece1 = heapq.heappop(minh)\n",
    "        piece2 = heapq.heappop(minh)\n",
    "        new_piece = piece1+piece2\n",
    "        cost+= new_piece\n",
    "        heapq.heappush(minh, new_piece)\n",
    "    return cost\n",
    "arr = [1, 2, 3, 4, 5]\n",
    "minRopeCost(arr)"
   ]
  },
  {
   "cell_type": "markdown",
   "metadata": {},
   "source": [
    "## Sum of Elements"
   ]
  },
  {
   "cell_type": "code",
   "execution_count": 12,
   "metadata": {},
   "outputs": [
    {
     "data": {
      "text/plain": [
       "23"
      ]
     },
     "execution_count": 12,
     "metadata": {},
     "output_type": "execute_result"
    }
   ],
   "source": [
    "def SumOfElements(arr: list[int], k1: int, k2: int)-> int:\n",
    "    def kthSmallest(arr: list[int], k:int):\n",
    "        minh = []\n",
    "        for ele in arr:\n",
    "            heapq.heappush(minh, -1*ele)\n",
    "            if len(minh)> k: \n",
    "                heapq.heappop(minh)\n",
    "        return -1*minh[0]\n",
    "    ele1 = kthSmallest(arr, k1)\n",
    "    ele2 = kthSmallest(arr, k2)\n",
    "    tsum = 0\n",
    "    for ele in arr:\n",
    "        if ele > ele1 and ele < ele2:\n",
    "            tsum+=ele\n",
    "    return tsum\n",
    "arr = [1, 3, 12, 5, 15, 11]\n",
    "k1 = 3\n",
    "k2 = 6\n",
    "SumOfElements(arr, k1, k2)"
   ]
  },
  {
   "cell_type": "markdown",
   "metadata": {},
   "source": [
    "## Kth Smallest Element in a Sorted \n",
    "[Question Link](https://leetcode.com/explore/learn/card/heap/646/practices/4086/)"
   ]
  },
  {
   "cell_type": "code",
   "execution_count": 13,
   "metadata": {},
   "outputs": [
    {
     "data": {
      "text/plain": [
       "13"
      ]
     },
     "execution_count": 13,
     "metadata": {},
     "output_type": "execute_result"
    }
   ],
   "source": [
    "class Solution:\n",
    "    def kthSmallest(self, matrix: list[list[int]], k:int) -> int:\n",
    "        maxh = []\n",
    "        for row in matrix:\n",
    "            for ele in row:\n",
    "                heapq.heappush(maxh, -ele)\n",
    "                if len(maxh) > k:\n",
    "                    heapq.heappop(maxh)\n",
    "        return -maxh[0]\n",
    "\n",
    "matrix = [[1,5,9],[10,11,13],[12,13,15]]\n",
    "k = 8\n",
    "Solution().kthSmallest(matrix, k)"
   ]
  },
  {
   "cell_type": "code",
   "execution_count": null,
   "metadata": {},
   "outputs": [],
   "source": []
  },
  {
   "cell_type": "code",
   "execution_count": null,
   "metadata": {},
   "outputs": [],
   "source": []
  }
 ],
 "metadata": {
  "kernelspec": {
   "display_name": "base",
   "language": "python",
   "name": "python3"
  },
  "language_info": {
   "codemirror_mode": {
    "name": "ipython",
    "version": 3
   },
   "file_extension": ".py",
   "mimetype": "text/x-python",
   "name": "python",
   "nbconvert_exporter": "python",
   "pygments_lexer": "ipython3",
   "version": "3.11.7"
  }
 },
 "nbformat": 4,
 "nbformat_minor": 2
}
