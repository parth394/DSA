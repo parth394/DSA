{
 "cells": [
  {
   "cell_type": "markdown",
   "metadata": {},
   "source": [
    "# Stack"
   ]
  },
  {
   "cell_type": "markdown",
   "metadata": {},
   "source": [
    "## Nearest Greater to Right | Next Largest Element\n",
    "## Nearest Greater to Left\n",
    "## Nearest Smaller to Left | Nearest Smaller Element\n",
    "## Nearest Smaller to Right"
   ]
  },
  {
   "cell_type": "code",
   "execution_count": 9,
   "metadata": {},
   "outputs": [
    {
     "name": "stdout",
     "output_type": "stream",
     "text": [
      "[3, 4, 4, -1]\n",
      "[-1, -1, 3, -1]\n",
      "[2, 2, -1, 8, -1]\n",
      "[-1, 4, -1, 2, 2]\n"
     ]
    }
   ],
   "source": [
    "class Solution: \n",
    "    def ngr(self, arr: list[int]):\n",
    "        s = []\n",
    "        v = []\n",
    "        n = len(arr)\n",
    "        for i in range(n-1, -1, -1):\n",
    "            if len(s)==0:\n",
    "                v.append(-1)\n",
    "            elif len(s)>0 and s[-1]>arr[i]:\n",
    "                v.append(s[-1])\n",
    "            elif len(s)>0 and s[-1]<=arr[i]:\n",
    "                while len(s)>0 and s[-1]<=arr[i]:\n",
    "                    s.pop()\n",
    "                if len(s)==0:\n",
    "                    v.append(-1)\n",
    "                else:\n",
    "                    v.append(s[-1])\n",
    "            s.append(arr[i])\n",
    "        return v[::-1]\n",
    "    \n",
    "    def ngl(self, arr: list[int]):\n",
    "        s = []\n",
    "        v = []\n",
    "        n = len(arr)\n",
    "        for i in range(n):\n",
    "            if len(s)==0:\n",
    "                v.append(-1)\n",
    "            elif len(s)>0 and s[-1]>arr[i]:\n",
    "                v.append(s[-1])\n",
    "            elif len(s)> 0 and s[-1] <= arr[i]:\n",
    "                while len(s)>0 and s[-1] <= arr[i]:\n",
    "                    s.pop()\n",
    "                if len(s)==0:\n",
    "                    v.append(-1)\n",
    "                else:\n",
    "                    v.append(s[-1])\n",
    "            s.append(arr[i])\n",
    "        return v\n",
    "    \n",
    "    def nsr(self, arr: list[int]):\n",
    "        s = []\n",
    "        v = []\n",
    "        n = len(arr)\n",
    "        for i in range(n-1, -1, -1):\n",
    "            if len(s)==0:\n",
    "                v.append(-1)\n",
    "            elif len(s)>0 and s[-1]<arr[i]:\n",
    "                v.append(s[-1])\n",
    "            elif len(s)>0 and s[-1]>=arr[i]:\n",
    "                while len(s)>0 and s[-1]>=arr[i]:\n",
    "                    s.pop()\n",
    "                if len(s)==0:\n",
    "                    v.append(-1)\n",
    "                else:\n",
    "                    v.append(s[-1])\n",
    "            s.append(arr[i])\n",
    "        return v[::-1]\n",
    "    \n",
    "    def nsl(self, arr: list[int]):\n",
    "        s = []\n",
    "        v = []\n",
    "        n = len(arr)\n",
    "        for i in range(n):\n",
    "            if len(s)==0:\n",
    "                v.append(-1)\n",
    "            elif len(s)>0 and s[-1]<arr[i]:\n",
    "                v.append(s[-1])\n",
    "            elif len(s)>0 and s[-1]>=arr[i]:\n",
    "                while len(s)>0 and s[-1]>=arr[i]:\n",
    "                    s.pop()\n",
    "                if len(s)==0:\n",
    "                    v.append(-1)\n",
    "                else:\n",
    "                    v.append(s[-1])\n",
    "            s.append(arr[i])\n",
    "        return v\n",
    "\n",
    "arr = [1, 3, 2, 4]\n",
    "print(Solution().ngr(arr))\n",
    "print(Solution().ngl(arr))\n",
    "arr = [4, 5, 2, 10, 8]\n",
    "print(Solution().nsr(arr))\n",
    "print(Solution().nsl(arr))"
   ]
  },
  {
   "cell_type": "markdown",
   "metadata": {},
   "source": [
    "## Stock Span Problem"
   ]
  },
  {
   "cell_type": "code",
   "execution_count": 16,
   "metadata": {},
   "outputs": [
    {
     "data": {
      "text/plain": [
       "[1, 1, 1, 2, 1, 4, 6]"
      ]
     },
     "execution_count": 16,
     "metadata": {},
     "output_type": "execute_result"
    }
   ],
   "source": [
    "class stockSpanProblem:\n",
    "    def ngl_index(self, arr: list[int]):\n",
    "        s = []\n",
    "        v = []\n",
    "        n = len(arr)\n",
    "        for i in range(n):\n",
    "            if len(s)==0:\n",
    "                v.append(-1)\n",
    "            elif len(s)>0 and s[-1]>arr[i]:\n",
    "                v.append(arr.index(s[-1]))\n",
    "            elif len(s)>0 and s[-1]<= arr[i]:\n",
    "                while len(s)>0 and s[-1] <= arr[i]:\n",
    "                    s.pop()\n",
    "                if len(s)==0:\n",
    "                    v.append(-1)\n",
    "                else:\n",
    "                    v.append(arr.index(s[-1]))\n",
    "            s.append(arr[i])\n",
    "        return v\n",
    "\n",
    "    def solve(self, arr: list[int]):\n",
    "        s = []\n",
    "        n = len(arr)\n",
    "        v = self.ngl_index(arr)\n",
    "        for i,val in enumerate(v):\n",
    "            v[i] = i - val\n",
    "        return v\n",
    "\n",
    "arr = [100, 80, 60, 70, 60, 75, 85]\n",
    "stockSpanProblem().solve(arr)"
   ]
  },
  {
   "cell_type": "markdown",
   "metadata": {},
   "source": [
    "## Maximum Area Histogram"
   ]
  },
  {
   "cell_type": "code",
   "execution_count": 24,
   "metadata": {},
   "outputs": [
    {
     "data": {
      "text/plain": [
       "12"
      ]
     },
     "execution_count": 24,
     "metadata": {},
     "output_type": "execute_result"
    }
   ],
   "source": [
    "class MAH:\n",
    "    def nsr_index(self, arr: list[int]):\n",
    "        s = []\n",
    "        v = []\n",
    "        n = len(arr)\n",
    "        pseudo_index = n\n",
    "        for i in range(n-1, -1, -1):\n",
    "            if len(s)==0:\n",
    "                v.append(pseudo_index)\n",
    "            elif len(s) > 0 and s[-1] < arr[i]:\n",
    "                v.append(arr.index(s[-1]))\n",
    "            elif len(s) > 0 and s[-1] >= arr[i]:\n",
    "                while len(s) > 0 and s[-1] >= arr[i]:\n",
    "                    s.pop()\n",
    "                if len(s)==0:\n",
    "                    v.append(pseudo_index)\n",
    "                else:\n",
    "                    v.append(arr.index(s[-1]))\n",
    "            s.append(arr[i])\n",
    "        \n",
    "        v = v[::-1]\n",
    "        for i, val in enumerate(v):\n",
    "            v[i] = val - i\n",
    "        return v\n",
    "\n",
    "\n",
    "    \n",
    "    def nsl_index(self, arr: list[int]):\n",
    "        s = []\n",
    "        v = []\n",
    "        n = len(arr)\n",
    "        for i in range(n):\n",
    "            if len(s)==0:\n",
    "                v.append(-1)\n",
    "            elif len(s) > 0 and s[-1] < arr[i]:\n",
    "                v.append(arr.index(s[-1]))\n",
    "            elif len(s) > 0 and s[-1] >= arr[i]:\n",
    "                while len(s) > 0 and s[-1] >= arr[i]:\n",
    "                    s.pop()\n",
    "                if len(s)==0:\n",
    "                    v.append(-1)\n",
    "                else:\n",
    "                    v.append(arr.index(s[-1]))\n",
    "            s.append(arr[i])\n",
    "        \n",
    "        for i, val in enumerate(v):\n",
    "            v[i] = val - i\n",
    "\n",
    "        return v\n",
    "    \n",
    "    def solve(self, arr: list[int]):\n",
    "        right = self.nsr_index(arr)\n",
    "        left  = self.nsl_index(arr)\n",
    "        width = [r-l-1 for r, l in zip(right, left)]\n",
    "        mx = - float('inf')\n",
    "        for w, h in zip(width, arr) :\n",
    "            mx = max(mx , w * h)\n",
    "        return mx\n",
    "\n",
    "arr = [6, 2, 5, 4, 5, 1, 6]\n",
    "MAH().solve(arr)\n"
   ]
  },
  {
   "cell_type": "markdown",
   "metadata": {},
   "source": [
    "## MAH Binary"
   ]
  },
  {
   "cell_type": "code",
   "execution_count": 29,
   "metadata": {},
   "outputs": [
    {
     "data": {
      "text/plain": [
       "8"
      ]
     },
     "execution_count": 29,
     "metadata": {},
     "output_type": "execute_result"
    }
   ],
   "source": [
    "class MAHBinary(MAH):\n",
    "    def solve_building(self, mat: list[list[int]]):\n",
    "        n = len(mat)\n",
    "        m = len(mat[0])\n",
    "        v = [0 for _ in range(m)]\n",
    "        mx = -float('inf')\n",
    "        for i in range(n):\n",
    "            for j in range(m):\n",
    "                if mat[i][j]!= 0: \n",
    "                    v[j]+=mat[i][j]\n",
    "                else:\n",
    "                    v[j] = 0\n",
    "            area = self.solve(v)\n",
    "            mx = max(mx, area)\n",
    "        return mx\n",
    "\n",
    "mat = [[0, 1, 1, 0],\n",
    "       [1, 1, 1, 1],\n",
    "       [1, 1, 1, 1],\n",
    "       [1, 1, 0, 0]]\n",
    "\n",
    "MAHBinary().solve_building(mat)"
   ]
  },
  {
   "cell_type": "code",
   "execution_count": null,
   "metadata": {},
   "outputs": [],
   "source": []
  }
 ],
 "metadata": {
  "kernelspec": {
   "display_name": "base",
   "language": "python",
   "name": "python3"
  },
  "language_info": {
   "codemirror_mode": {
    "name": "ipython",
    "version": 3
   },
   "file_extension": ".py",
   "mimetype": "text/x-python",
   "name": "python",
   "nbconvert_exporter": "python",
   "pygments_lexer": "ipython3",
   "version": "undefined.undefined.undefined"
  }
 },
 "nbformat": 4,
 "nbformat_minor": 2
}
