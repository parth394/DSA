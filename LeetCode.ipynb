{
 "cells": [
  {
   "cell_type": "markdown",
   "metadata": {},
   "source": [
    "# Leet Code's Questions and their answers"
   ]
  },
  {
   "cell_type": "markdown",
   "metadata": {},
   "source": [
    "## Common Classes"
   ]
  },
  {
   "cell_type": "code",
   "execution_count": 14,
   "metadata": {},
   "outputs": [],
   "source": [
    "from typing import Optional"
   ]
  },
  {
   "cell_type": "code",
   "execution_count": 15,
   "metadata": {},
   "outputs": [],
   "source": [
    "class TreeNode:\n",
    "    def __init__(self, val, left=None, right=None):\n",
    "        self.val = val\n",
    "        self.left = left\n",
    "        self.right = right\n",
    "\n",
    "# Definition for singly-linked list.\n",
    "class ListNode:\n",
    "    def __init__(self, val=0, next=None):\n",
    "        self.val = val\n",
    "        self.next = next\n"
   ]
  },
  {
   "cell_type": "markdown",
   "metadata": {},
   "source": [
    "## Graphs and Trees"
   ]
  },
  {
   "cell_type": "markdown",
   "metadata": {},
   "source": [
    "### Binary Tree Maximum Path Sum"
   ]
  },
  {
   "cell_type": "code",
   "execution_count": 16,
   "metadata": {},
   "outputs": [
    {
     "name": "stdout",
     "output_type": "stream",
     "text": [
      "6\n",
      "42\n"
     ]
    }
   ],
   "source": [
    "class Solution:\n",
    "    def maxPathSum(self, root: Optional[TreeNode])-> int:\n",
    "        distance = 0\n",
    "        def sub_graph(node):\n",
    "            nonlocal distance\n",
    "            if not node:\n",
    "                return 0\n",
    "            left_path = max(sub_graph(node.left), 0)\n",
    "            right_path = max(sub_graph(node.right), 0)\n",
    "\n",
    "            distance = max(distance, left_path + right_path + node.val)\n",
    "\n",
    "            return max(left_path, right_path) + node.val\n",
    "\n",
    "        sub_graph(root)\n",
    "        return distance\n",
    "    \n",
    "# case1\n",
    "t=TreeNode(2)\n",
    "t.left = TreeNode(1)\n",
    "t.right = TreeNode(3)\n",
    "print(Solution().maxPathSum(t))\n",
    "\n",
    "# Case2\n",
    "t=TreeNode(-10)\n",
    "t.left = TreeNode(9)\n",
    "t.right = TreeNode(20)\n",
    "t.right.left = TreeNode(15) \n",
    "t.right.right = TreeNode(7)\n",
    "print(Solution().maxPathSum(t))"
   ]
  },
  {
   "cell_type": "markdown",
   "metadata": {},
   "source": [
    "## Arrays"
   ]
  },
  {
   "cell_type": "markdown",
   "metadata": {},
   "source": [
    "### Valid Parentheses Question\n",
    "Given a string s containing just the characters '(', ')', '{', '}', '[' and ']', determine if the input string is valid.\n",
    "\n",
    "An input string is valid if:\n",
    "\n",
    "    Open brackets must be closed by the same type of brackets.\n",
    "    Open brackets must be closed in the correct order.\n",
    "    Every close bracket has a corresponding open bracket of the same type.\n",
    "\n",
    " \n",
    "\n",
    "Example 1:\n",
    "\n",
    "Input: s = \"()\"\n",
    "Output: true\n",
    "\n",
    "Example 2:\n",
    "\n",
    "Input: s = \"()[]{}\"\n",
    "Output: true\n",
    "\n",
    "Example 3:\n",
    "\n",
    "Input: s = \"(]\"\n",
    "Output: false\n",
    "\n",
    " \n",
    "\n",
    "Constraints:\n",
    "\n",
    "    1 <= s.length <= 104\n",
    "    s consists of parentheses only '()[]{}'.\n",
    "\n",
    "   Hide Hint #1  \n",
    "Use a stack of characters.\n",
    "   Hide Hint #2  \n",
    "When you encounter an opening bracket, push it to the top of the stack.\n",
    "   Hide Hint #3  \n",
    "When you encounter a closing bracket, check if the top of the stack was the opening for it. If yes, pop it from the stack. Otherwise, return false."
   ]
  },
  {
   "cell_type": "code",
   "execution_count": 11,
   "metadata": {},
   "outputs": [
    {
     "data": {
      "text/plain": [
       "True"
      ]
     },
     "execution_count": 11,
     "metadata": {},
     "output_type": "execute_result"
    }
   ],
   "source": [
    "def isValid(s: str) -> bool:\n",
    "    n = len(s)\n",
    "    if n %2 != 0:\n",
    "        return False\n",
    "    ob = ['(', '{', '[']\n",
    "    mapping = {\")\": \"(\", \"}\": \"{\", \"]\": \"[\"}\n",
    "    stack = []\n",
    "    # stack.append(s[0])\n",
    "    i =0\n",
    "    while i < n:\n",
    "        if s[i] in mapping:\n",
    "            if len(stack) > 0 and mapping[s[i]]==stack[len(stack)-1]:\n",
    "                stack.pop()\n",
    "            else:\n",
    "                 return False\n",
    "        else:\n",
    "            stack.append(s[i])\n",
    "        i+=1\n",
    "    if len(stack)> 0:\n",
    "        return False\n",
    "    return True\n",
    "\n",
    "s = \"()\"\n",
    "isValid(s)"
   ]
  },
  {
   "cell_type": "markdown",
   "metadata": {},
   "source": [
    "### Merge k Sorted Lists\n",
    "You are given an array of k linked-lists lists, each linked-list is sorted in ascending order.\n",
    "\n",
    "Merge all the linked-lists into one sorted linked-list and return it.\n",
    "\n",
    " \n",
    "```\n",
    "Example 1:\n",
    "\n",
    "Input: lists = [[1,4,5],[1,3,4],[2,6]]\n",
    "Output: [1,1,2,3,4,4,5,6]\n",
    "Explanation: The linked-lists are:\n",
    "[\n",
    "  1->4->5,\n",
    "  1->3->4,\n",
    "  2->6\n",
    "]\n",
    "merging them into one sorted list:\n",
    "1->1->2->3->4->4->5->6\n",
    "\n",
    "Example 2:\n",
    "\n",
    "Input: lists = []\n",
    "Output: []\n",
    "\n",
    "Example 3:\n",
    "\n",
    "Input: lists = [[]]\n",
    "Output: []\n",
    "```\n",
    " \n",
    "\n",
    "Constraints:\n",
    "\n",
    "    k == lists.length\n",
    "    0 <= k <= 104\n",
    "    0 <= lists[i].length <= 500\n",
    "    -104 <= lists[i][j] <= 104\n",
    "    lists[i] is sorted in ascending order.\n",
    "    The sum of lists[i].length will not exceed 104.\n",
    "\n"
   ]
  },
  {
   "cell_type": "code",
   "execution_count": 19,
   "metadata": {},
   "outputs": [],
   "source": [
    "class Solution:\n",
    "    def merge2Lists(self, a: Optional[ListNode], b: Optional[ListNode]) -> Optional[ListNode]:\n",
    "        head = temp = ListNode(val=0)\n",
    "        while a is not None and b is not None:\n",
    "            if a.val < b.val:\n",
    "                temp.next = ListNode(val=a.val)\n",
    "                temp=temp.next\n",
    "                a=a.next\n",
    "            elif a.val > b.val:\n",
    "                temp.next = ListNode(val=b.val)\n",
    "                temp=temp.next\n",
    "                b = b.next\n",
    "            else:\n",
    "                temp.next = ListNode(val=a.val)\n",
    "                temp.next.next = ListNode(val=b.val)\n",
    "                temp = temp.next.next\n",
    "                a = a.next\n",
    "                b = b.next\n",
    "        if not a:\n",
    "            temp.next = b\n",
    "        else:\n",
    "            temp.next = a\n",
    "        return head.next\n",
    "\n",
    "    def mergeKLists(self, lists: list[Optional[ListNode]]) -> Optional[ListNode]:\n",
    "        n = len(lists)\n",
    "        if n ==0:\n",
    "            return None\n",
    "        temp = lists[0]\n",
    "        i = 1\n",
    "        while i < n:\n",
    "            temp = self.merge2Lists(temp, lists[i])\n",
    "            i+=1\n",
    "        return temp"
   ]
  },
  {
   "cell_type": "markdown",
   "metadata": {},
   "source": [
    "## Recursion"
   ]
  },
  {
   "cell_type": "markdown",
   "metadata": {},
   "source": [
    "### Letter Combination of a Phone Number"
   ]
  },
  {
   "cell_type": "code",
   "execution_count": 11,
   "metadata": {},
   "outputs": [
    {
     "data": {
      "text/plain": [
       "['ad', 'ae', 'af', 'bd', 'be', 'bf', 'cd', 'ce', 'cf']"
      ]
     },
     "execution_count": 11,
     "metadata": {},
     "output_type": "execute_result"
    }
   ],
   "source": [
    "class Solution:\n",
    "    def solve(self, digits: str, op: str):\n",
    "        n = len(digits)\n",
    "        if n == 0:\n",
    "            self.temp.append(op)\n",
    "            return\n",
    "        s = digits[0]\n",
    "        digits = digits[1:]\n",
    "        for ele in self.mapping[s]:\n",
    "            self.solve(digits, op + ele)\n",
    "        \n",
    "    def letterCombinations(self, digits: str):\n",
    "        self.mapping = {\n",
    "            \"2\": \"abc\",\n",
    "            \"3\": \"def\",\n",
    "            \"4\": \"ghi\",\n",
    "            \"5\": \"jkl\",\n",
    "            \"6\": \"mno\",\n",
    "            \"7\": \"pqrs\",\n",
    "            \"8\": \"tuv\",\n",
    "            \"9\": \"wxyz\",\n",
    "        }\n",
    "        op = \"\"\n",
    "        self.temp = []\n",
    "        self.solve(digits, op)\n",
    "        return self.temp\n",
    "\n",
    "Solution().letterCombinations(digits=\"23\")"
   ]
  },
  {
   "cell_type": "markdown",
   "metadata": {},
   "source": [
    "## Sorting Searching"
   ]
  },
  {
   "cell_type": "markdown",
   "metadata": {},
   "source": [
    "### Merge Intervals"
   ]
  },
  {
   "cell_type": "markdown",
   "metadata": {},
   "source": [
    "Given an array of intervals where intervals[i] = [starti, endi], merge all overlapping intervals, and return an array of the non-overlapping intervals that cover all the intervals in the input.\n",
    "\n",
    " \n",
    "\n",
    "```bash\n",
    "Example 1:\n",
    "\n",
    "Input: intervals = [[1,3],[2,6],[8,10],[15,18]]\n",
    "Output: [[1,6],[8,10],[15,18]]\n",
    "Explanation: Since intervals [1,3] and [2,6] overlap, merge them into [1,6].\n",
    "```\n",
    "```bash\n",
    "Example 2:\n",
    "\n",
    "Input: intervals = [[1,4],[4,5]]\n",
    "Output: [[1,5]]\n",
    "Explanation: Intervals [1,4] and [4,5] are considered overlapping.\n",
    "```\n",
    " \n",
    "\n",
    "Constraints:\n",
    "\n",
    "    1 <= intervals.length <= 104\n",
    "    intervals[i].length == 2\n",
    "    0 <= starti <= endi <= 104\n",
    "\n"
   ]
  },
  {
   "cell_type": "code",
   "execution_count": 8,
   "metadata": {},
   "outputs": [
    {
     "data": {
      "text/plain": [
       "[[1, 6], [8, 10], [15, 18]]"
      ]
     },
     "execution_count": 8,
     "metadata": {},
     "output_type": "execute_result"
    }
   ],
   "source": [
    "class Solution:\n",
    "    def merge(self, intervals: list[list[int]]) -> list[list[int]]:\n",
    "        i = 1\n",
    "        n = len(intervals)\n",
    "        intervals.sort(key=lambda x: x[0])\n",
    "        while i < n:\n",
    "            a = intervals[i-1]\n",
    "            b = intervals[i]\n",
    "            if a[1] >= b[0]:\n",
    "                intervals[i][0]=min(a[0], b[0])\n",
    "                intervals[i][1]=max(a[1], b[1])\n",
    "                intervals.pop(i-1)\n",
    "                n-=1\n",
    "            else:\n",
    "                i+=1\n",
    "        return intervals\n",
    "intervals=[[1,3],[2,6],[8,10],[15,18]]\n",
    "Solution().merge(intervals)"
   ]
  },
  {
   "cell_type": "markdown",
   "metadata": {},
   "source": [
    "### Insert Interval"
   ]
  },
  {
   "cell_type": "markdown",
   "metadata": {},
   "source": [
    "#### Explaination\n",
    "You are given an array of non-overlapping intervals intervals where intervals[i] = [starti, endi] represent the start and the end of the ith interval and intervals is sorted in ascending order by starti. You are also given an interval newInterval = [start, end] that represents the start and end of another interval.\n",
    "\n",
    "Insert newInterval into intervals such that intervals is still sorted in ascending order by starti and intervals still does not have any overlapping intervals (merge overlapping intervals if necessary).\n",
    "\n",
    "Return intervals after the insertion.\n",
    "```bash\n",
    "Example 1:\n",
    "\n",
    "Input: intervals = [[1,3],[6,9]], newInterval = [2,5]\n",
    "Output: [[1,5],[6,9]]\n",
    "\n",
    "Example 2:\n",
    "\n",
    "Input: intervals = [[1,2],[3,5],[6,7],[8,10],[12,16]], newInterval = [4,8]\n",
    "Output: [[1,2],[3,10],[12,16]]\n",
    "Explanation: Because the new interval [4,8] overlaps with [3,5],[6,7],[8,10].\n",
    "```\n",
    " \n",
    "\n",
    "Constraints:\n",
    "\n",
    "    0 <= intervals.length <= 104\n",
    "    intervals[i].length == 2\n",
    "    0 <= starti <= endi <= 105\n",
    "    intervals is sorted by starti in ascending order.\n",
    "    newInterval.length == 2\n",
    "    0 <= start <= end <= 105"
   ]
  },
  {
   "cell_type": "code",
   "execution_count": 14,
   "metadata": {},
   "outputs": [
    {
     "data": {
      "text/plain": [
       "[[1, 2], [3, 10], [12, 16]]"
      ]
     },
     "execution_count": 14,
     "metadata": {},
     "output_type": "execute_result"
    }
   ],
   "source": [
    "class Solution:\n",
    "    def merge(self, intervals: list[list[int]])-> list[list[int]]:\n",
    "        i = 1\n",
    "        n = len(intervals)\n",
    "        while i < n:\n",
    "            a = intervals[i-1]\n",
    "            b = intervals[i]\n",
    "            if a[1] >= b[0]:\n",
    "                intervals[i] = [min(a[0], b[0]), max(a[1], b[1])]\n",
    "                intervals.pop(i-1)\n",
    "                n-=1\n",
    "            else:\n",
    "                i+=1\n",
    "        return intervals\n",
    "    def insert(self, intervals: list[list[int]], newInterval: list[int]) -> list[list[int]]:\n",
    "        n = len(intervals)\n",
    "        if n == 0:\n",
    "            return [newInterval]\n",
    "        i = 0\n",
    "        temp = []\n",
    "        a=b=0\n",
    "        while i < n:\n",
    "            if intervals[i][1]>=newInterval[0]:\n",
    "                if intervals[i][0]<newInterval[0]:\n",
    "                    intervals.insert(i+1, newInterval)\n",
    "                else: \n",
    "                    intervals.insert(i, newInterval)\n",
    "                break\n",
    "            i+=1\n",
    "        if len(intervals)==n:\n",
    "            intervals.append(newInterval)\n",
    "        return self.merge(intervals)\n",
    "intervals = [[1,2],[3,5],[6,7],[8,10],[12,16]]\n",
    "newInterval = [4,8]\n",
    "Solution().insert(intervals, newInterval)"
   ]
  },
  {
   "cell_type": "markdown",
   "metadata": {},
   "source": [
    "## Dynamic Programming"
   ]
  },
  {
   "cell_type": "markdown",
   "metadata": {},
   "source": [
    "### Longest Palindromic Substring"
   ]
  },
  {
   "cell_type": "code",
   "execution_count": 35,
   "metadata": {},
   "outputs": [
    {
     "name": "stdout",
     "output_type": "stream",
     "text": [
      "[0, 0, 0, 0, 0]\n",
      "[0, 0, 0, 0, 1]\n",
      "[0, 0, 1, 1, 0]\n",
      "[0, 0, 1, 2, 0]\n",
      "[0, 1, 0, 0, 0]\n",
      "cbbd dbbc\n",
      "4 4\n",
      "3 4\n",
      "3 3\n",
      "2 2\n",
      "1 1\n"
     ]
    },
    {
     "data": {
      "text/plain": [
       "'bb'"
      ]
     },
     "execution_count": 35,
     "metadata": {},
     "output_type": "execute_result"
    }
   ],
   "source": [
    "class Solution:\n",
    "    \n",
    "    def lcs(self, a: str, b: str )-> None:\n",
    "        m = len(a)\n",
    "        n = len(b)\n",
    "        \n",
    "        for i in range(m+1):\n",
    "            for j in range(n+1):\n",
    "                if i == 0 or j == 0:\n",
    "                    self.t[i][j]=0\n",
    "                elif a[i-1]==b[j-1]:\n",
    "                    self.t[i][j] = 1 + self.t[i-1][j-1]\n",
    "                else:\n",
    "                    # self.t[i][j]=max(self.t[i-1][j], self.t[i][j-1])\n",
    "                    self.t[i][j]=0\n",
    "        for ele in self.t:\n",
    "            print(ele)\n",
    "\n",
    "    def longestPalindrome(self, s: str) -> str:\n",
    "        n = len(s)\n",
    "        self.t = [[0]*(n+1) for _ in range(n+1)]\n",
    "        temp = s[::-1]\n",
    "        self.lcs(s, temp)\n",
    "        i = j = n\n",
    "        op = \"\"\n",
    "        print(s, temp)\n",
    "        while i > 0 and j > 0:\n",
    "            print(i,j)\n",
    "            if s[i-1]==temp[j-1]:\n",
    "                op = s[i-1] + op\n",
    "                i-=1\n",
    "                j-=1\n",
    "            else:\n",
    "                if self.t[i][j-1] > self.t[i-1][j]:\n",
    "                    j-=1\n",
    "                else:\n",
    "                    i-=1\n",
    "        return op\n",
    "\n",
    "s = \"cbbd\"\n",
    "Solution().longestPalindrome(s)"
   ]
  },
  {
   "cell_type": "code",
   "execution_count": 36,
   "metadata": {},
   "outputs": [
    {
     "name": "stdout",
     "output_type": "stream",
     "text": [
      "[0, 0, 0, 0, 0, 0, 0, 0, 0, 0, 0, 0]\n",
      "[0, 1, 1, 0, 1, 0, 0, 0, 1, 0, 1, 1]\n",
      "[0, 1, 2, 0, 1, 0, 0, 0, 1, 0, 1, 2]\n",
      "[0, 0, 0, 3, 0, 0, 0, 0, 0, 2, 0, 0]\n",
      "[0, 1, 1, 0, 4, 0, 0, 0, 1, 0, 3, 1]\n",
      "[0, 0, 0, 0, 0, 0, 0, 1, 0, 0, 0, 0]\n",
      "[0, 0, 0, 0, 0, 0, 1, 0, 0, 0, 0, 0]\n",
      "[0, 0, 0, 0, 0, 1, 0, 0, 0, 0, 0, 0]\n",
      "[0, 1, 1, 0, 1, 0, 0, 0, 1, 0, 1, 1]\n",
      "[0, 0, 0, 2, 0, 0, 0, 0, 0, 2, 0, 0]\n",
      "[0, 1, 1, 0, 3, 0, 0, 0, 1, 0, 3, 1]\n",
      "[0, 1, 2, 0, 1, 0, 0, 0, 1, 0, 1, 4]\n",
      "aacabdkacaa aacakdbacaa\n",
      "11 11\n",
      "10 10\n",
      "9 9\n",
      "8 8\n",
      "7 7\n",
      "6 7\n",
      "5 7\n",
      "4 6\n",
      "3 6\n",
      "2 6\n",
      "1 6\n"
     ]
    },
    {
     "data": {
      "text/plain": [
       "'bacaa'"
      ]
     },
     "execution_count": 36,
     "metadata": {},
     "output_type": "execute_result"
    }
   ],
   "source": [
    "s = \"aacabdkacaa\"\n",
    "Solution().longestPalindrome(s)"
   ]
  },
  {
   "cell_type": "code",
   "execution_count": 48,
   "metadata": {},
   "outputs": [
    {
     "data": {
      "text/plain": [
       "'aca'"
      ]
     },
     "execution_count": 48,
     "metadata": {},
     "output_type": "execute_result"
    }
   ],
   "source": [
    "class Solution:\n",
    "    def lcs(self, a: str, b: str )-> None:\n",
    "        m = len(a)\n",
    "        n = len(b)\n",
    "        \n",
    "        for i in range(m+1):\n",
    "            for j in range(n+1):\n",
    "                if i == 0 or j == 0:\n",
    "                    self.t[i][j]=0\n",
    "                elif a[i-1]==b[j-1]:\n",
    "                    self.t[i][j] = 1 + self.t[i-1][j-1]\n",
    "                else:\n",
    "                    self.t[i][j]=0\n",
    "    \n",
    "    def parseTabulation(self,s: str, temp: str, n: int):\n",
    "        op = \"\"\n",
    "        i=j=n\n",
    "        while i > 0 and j > 0:\n",
    "            if s[i-1]==temp[j-1]:\n",
    "                op = s[i-1] + op\n",
    "                i-=1\n",
    "                j-=1\n",
    "            elif self.t[i-1][j] > self.t[i][j-1]:\n",
    "                i-=1\n",
    "            else:\n",
    "                j-=1\n",
    "        return op\n",
    "\n",
    "    def isPalindrome(self, s: str):\n",
    "        n = len(s)\n",
    "        i = 0\n",
    "        j = n-1\n",
    "        while i < j:\n",
    "            if s[i]!=s[j]:\n",
    "                return False\n",
    "            i+=1\n",
    "            j-=1\n",
    "        return True\n",
    "    \n",
    "    def longestPalindrome(self, s: str) -> str:\n",
    "        n = len(s)\n",
    "        self.t = [[0]*(n+1) for _ in range(n+1)]\n",
    "        temp = s[::-1]\n",
    "        self.lcs(s, temp)\n",
    "        i = j = n\n",
    "        op = self.parseTabulation(s, temp, n)\n",
    "        # print(op)\n",
    "        # print(self.isPalindrome(op))\n",
    "        if self.isPalindrome(op):\n",
    "            return op\n",
    "        else:\n",
    "            return self.longestPalindrome(op)\n",
    "s = \"aacabdkacaa\"\n",
    "Solution().longestPalindrome(s)"
   ]
  },
  {
   "cell_type": "code",
   "execution_count": null,
   "metadata": {},
   "outputs": [],
   "source": []
  }
 ],
 "metadata": {
  "kernelspec": {
   "display_name": "base",
   "language": "python",
   "name": "python3"
  },
  "language_info": {
   "codemirror_mode": {
    "name": "ipython",
    "version": 3
   },
   "file_extension": ".py",
   "mimetype": "text/x-python",
   "name": "python",
   "nbconvert_exporter": "python",
   "pygments_lexer": "ipython3",
   "version": "3.11.5"
  }
 },
 "nbformat": 4,
 "nbformat_minor": 2
}
