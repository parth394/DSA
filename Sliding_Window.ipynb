{
 "cells": [
  {
   "cell_type": "markdown",
   "metadata": {},
   "source": [
    "# Sliding Window Questions"
   ]
  },
  {
   "cell_type": "markdown",
   "metadata": {},
   "source": [
    "## Fixed Length Window"
   ]
  },
  {
   "cell_type": "markdown",
   "metadata": {},
   "source": [
    "### Find the max sum of window size k ?"
   ]
  },
  {
   "cell_type": "code",
   "execution_count": 3,
   "metadata": {},
   "outputs": [
    {
     "data": {
      "text/plain": [
       "19"
      ]
     },
     "execution_count": 3,
     "metadata": {},
     "output_type": "execute_result"
    }
   ],
   "source": [
    "def maxSubArraySum(arr: list[int], k: int):\n",
    "    n = len(arr)\n",
    "    mx = -float('inf')\n",
    "    i = j = sum_ = 0\n",
    "    while j < n:\n",
    "        sum_ += arr[j]\n",
    "        if j-i+1 < k:\n",
    "            j+=1\n",
    "        else:\n",
    "            mx = max(mx, sum_)\n",
    "            sum_-=arr[i]\n",
    "            i+=1\n",
    "            j+=1\n",
    "    return mx\n",
    "\n",
    "arr = [2, 5, 1, 8, 2, 9, 1]\n",
    "maxSubArraySum(arr, 3)"
   ]
  },
  {
   "cell_type": "markdown",
   "metadata": {},
   "source": [
    "### Print First Negative Number of a sliding window of size k"
   ]
  },
  {
   "cell_type": "code",
   "execution_count": 7,
   "metadata": {},
   "outputs": [
    {
     "name": "stdout",
     "output_type": "stream",
     "text": [
      "-1 -1 -7 -15 -15 0 "
     ]
    }
   ],
   "source": [
    "def firstNegativeNumber(arr: list[int], k: int)-> None:\n",
    "     n = len(arr)\n",
    "     i=j=0\n",
    "     temp=[]\n",
    "     while j < n:\n",
    "        # Add Calculation 1\n",
    "        if arr[j] < 0:\n",
    "            temp.append(arr[j])\n",
    "        if  j-i + 1 < k:\n",
    "            j+=1\n",
    "        \n",
    "        elif j - i + 1 == k:\n",
    "            # Add calculation 2\n",
    "            if len(temp) == 0:\n",
    "                print(0, end=\" \")\n",
    "            else:\n",
    "                print(temp[0], end=\" \")\n",
    "                if temp[0] == arr[i]:\n",
    "                    temp.pop(0)\n",
    "            i+=1\n",
    "            j+=1\n",
    "\n",
    "arr = [12,-1, -7, 8, -15, 30, 16, 28]\n",
    "firstNegativeNumber(arr, 3)"
   ]
  },
  {
   "cell_type": "markdown",
   "metadata": {},
   "source": [
    "### Count Number of Anagrams in string"
   ]
  },
  {
   "cell_type": "code",
   "execution_count": 50,
   "metadata": {},
   "outputs": [
    {
     "data": {
      "text/plain": [
       "4"
      ]
     },
     "execution_count": 50,
     "metadata": {},
     "output_type": "execute_result"
    }
   ],
   "source": [
    "def countAnagrams(s1: str, s2: str ) -> int:\n",
    "    n1 = len(s1)\n",
    "    n2 = len(s2)\n",
    "    MAPPING = {}\n",
    "    for ele in s2:\n",
    "        MAPPING[ele] = MAPPING.get(ele, 0 ) + 1\n",
    "    count = len(MAPPING)\n",
    "    i=j=counter=0\n",
    "    while j < n1:\n",
    "        if s1[j] in MAPPING.keys():\n",
    "            MAPPING[s1[j]]-=1\n",
    "            if MAPPING[s1[j]]==0:\n",
    "                count-=1\n",
    "        if j-i+1 < n2:\n",
    "            j+=1\n",
    "        elif j-i+1 == n2:\n",
    "            if count == 0:\n",
    "                counter+=1\n",
    "            if MAPPING[s1[j]]<0:\n",
    "                MAPPING[s1[j]]+=1\n",
    "                count-=1\n",
    "            MAPPING[s1[i]]+=1\n",
    "            count+=1\n",
    "            i+=1\n",
    "            j+=1\n",
    "    return counter\n",
    "\n",
    "s1 = \"aabaabaa\"\n",
    "s2 = \"aaba\"\n",
    "countAnagrams(s1, s2)\n"
   ]
  },
  {
   "cell_type": "markdown",
   "metadata": {},
   "source": [
    "### Max of a sub array"
   ]
  },
  {
   "cell_type": "code",
   "execution_count": 137,
   "metadata": {},
   "outputs": [
    {
     "name": "stdout",
     "output_type": "stream",
     "text": [
      "3\n",
      "3\n",
      "1\n",
      "3\n",
      "6\n",
      "7\n"
     ]
    }
   ],
   "source": [
    "def maxSubArray(n: int, arr: list[int], k: int):\n",
    "    if n == 1:\n",
    "        print(arr[0])\n",
    "    i=j=0\n",
    "    mx = -float('inf')\n",
    "    while j < n:\n",
    "        mx = max(mx, arr[j])\n",
    "        if j-i+1<k:\n",
    "            j+=1\n",
    "        if j-i+1 == k:\n",
    "            print(mx)\n",
    "            if arr[i]==mx:\n",
    "                mx=-float('inf')\n",
    "            i+=1\n",
    "            j+=1\n",
    "arr = [1, 3, -1, -3, 1, 3, 6, 7]\n",
    "n = len(arr)\n",
    "k =3\n",
    "maxSubArray(n, arr, k)"
   ]
  },
  {
   "cell_type": "markdown",
   "metadata": {},
   "source": [
    "## Variable Sliding Window"
   ]
  },
  {
   "cell_type": "markdown",
   "metadata": {},
   "source": [
    "### Max Sum Subarray"
   ]
  },
  {
   "cell_type": "code",
   "execution_count": 65,
   "metadata": {},
   "outputs": [
    {
     "data": {
      "text/plain": [
       "4"
      ]
     },
     "execution_count": 65,
     "metadata": {},
     "output_type": "execute_result"
    }
   ],
   "source": [
    "def maxSumSubarray(n: int, arr: list[int], k: int)-> int:\n",
    "    i = j = total = 0\n",
    "    mx = -float('inf')\n",
    "    while j < n:\n",
    "        total += arr[j]\n",
    "        if total < k:\n",
    "            j+=1\n",
    "        elif total == k:\n",
    "            mx = max(mx, j-i+1)\n",
    "            j+=1\n",
    "        else:\n",
    "            while total > k:\n",
    "                total-=arr[i]\n",
    "                i+=1\n",
    "            j+=1\n",
    "    return mx\n",
    "arr = [4, 1, 1, 1, 2, 3, 5]\n",
    "n = len(arr)\n",
    "k = 5\n",
    "maxSumSubarray(n , arr, k)"
   ]
  },
  {
   "cell_type": "markdown",
   "metadata": {},
   "source": [
    "### Longest Substring with K unique characters"
   ]
  },
  {
   "cell_type": "code",
   "execution_count": 90,
   "metadata": {},
   "outputs": [
    {
     "data": {
      "text/plain": [
       "7"
      ]
     },
     "execution_count": 90,
     "metadata": {},
     "output_type": "execute_result"
    }
   ],
   "source": [
    "def longestUniqueSubstring(n: int, s: str, k: int):\n",
    "    i=j=0\n",
    "    mx = -float('inf')\n",
    "    temp = {}\n",
    "    while j < n:\n",
    "        temp[s[j]] = temp.get(s[j], 0) + 1\n",
    "        if len(temp) == k:\n",
    "            mx = max(mx, j-i+1)\n",
    "            j+=1\n",
    "        elif len(temp) > k: \n",
    "            while len(temp) > k:\n",
    "                temp[s[i]]-=1\n",
    "                if temp[s[i]]==0:\n",
    "                    temp.pop(s[i])\n",
    "                i+=1\n",
    "        \n",
    "        j+=1\n",
    "        \n",
    "    return mx\n",
    "\n",
    "s = \"aabacbebebe\"\n",
    "k = 3\n",
    "n = len(s)\n",
    "longestUniqueSubstring(n, s, k)"
   ]
  },
  {
   "cell_type": "markdown",
   "metadata": {},
   "source": [
    "### Longest Substring With no repeating characters"
   ]
  },
  {
   "cell_type": "code",
   "execution_count": 92,
   "metadata": {},
   "outputs": [
    {
     "data": {
      "text/plain": [
       "3"
      ]
     },
     "execution_count": 92,
     "metadata": {},
     "output_type": "execute_result"
    }
   ],
   "source": [
    "def longestDistinctSubstring(n: int, s: str):\n",
    "    i=j=count=0\n",
    "    mx = -float('inf')\n",
    "    temp = {}\n",
    "    while j < n:\n",
    "        temp[s[j]] = temp.get(s[j], 0) + 1\n",
    "        if len(temp) == j-i+1:\n",
    "            mx = max(mx, j-i+1)\n",
    "        if len(temp) < j-i+1:\n",
    "            temp[s[i]]-=1\n",
    "            if temp[s[i]]==0:\n",
    "                temp.pop(s[i])\n",
    "            i+=1\n",
    "        j+=1\n",
    "    return mx\n",
    "s=\"pwwkew\"\n",
    "n=len(s)\n",
    "longestDistinctSubstring(n, s)"
   ]
  },
  {
   "cell_type": "markdown",
   "metadata": {},
   "source": [
    "###  PickToys"
   ]
  },
  {
   "cell_type": "code",
   "execution_count": 96,
   "metadata": {},
   "outputs": [
    {
     "name": "stdout",
     "output_type": "stream",
     "text": [
      "ab\n",
      "aba\n",
      "acc\n",
      "acca\n"
     ]
    },
    {
     "data": {
      "text/plain": [
       "4"
      ]
     },
     "execution_count": 96,
     "metadata": {},
     "output_type": "execute_result"
    }
   ],
   "source": [
    "def pickToys(n: int, s: str, k: int):\n",
    "    i=j=0\n",
    "    temp = {}\n",
    "    mx = -float('inf')\n",
    "    while j < n:\n",
    "        temp[s[j]] = temp.get(s[j], 0) + 1\n",
    "        if len(temp) == k:\n",
    "            mx = max(mx, j-i+1)\n",
    "        elif len(temp) > k:\n",
    "            while len(temp) > k:\n",
    "                temp[s[i]]-=1\n",
    "                if temp[s[i]]==0:\n",
    "                    temp.pop(s[i])\n",
    "                i+=1\n",
    "        j+=1\n",
    "    return mx\n",
    "s = \"abaccab\"\n",
    "n = len(s)\n",
    "k = 2\n",
    "pickToys(n, s, k) "
   ]
  },
  {
   "cell_type": "markdown",
   "metadata": {},
   "source": [
    "### Minimum Window Substring"
   ]
  },
  {
   "cell_type": "code",
   "execution_count": 132,
   "metadata": {},
   "outputs": [
    {
     "data": {
      "text/plain": [
       "3"
      ]
     },
     "execution_count": 132,
     "metadata": {},
     "output_type": "execute_result"
    }
   ],
   "source": [
    "def minWindowSubstring(s1: str, s2: str, n1: int, n2: int):\n",
    "    i=j=0\n",
    "    mapping = {}\n",
    "    mn = float('inf')\n",
    "    for ele in s2:\n",
    "        mapping[ele] = mapping.get(ele, 0) + 1\n",
    "    count = len(mapping)\n",
    "    while j < n1:\n",
    "        if s1[j] in mapping:\n",
    "            mapping[s1[j]]-=1\n",
    "            if mapping[s1[j]]==0:\n",
    "                count-=1\n",
    "        while count==0:\n",
    "            mn = min(mn, j-i+1)\n",
    "            if s1[i] in mapping:\n",
    "                if mapping[s1[i]]==0:\n",
    "                    count+=1\n",
    "                mapping[s1[i]]+=1\n",
    "            i+=1\n",
    "        j+=1\n",
    "    return mn\n",
    "\n",
    "s1=\"totmtaptat\"\n",
    "n1 =len(s1)\n",
    "s2=\"tta\"\n",
    "n2=len(s2)\n",
    "minWindowSubstring(s1, s2, n1, n2)"
   ]
  },
  {
   "cell_type": "code",
   "execution_count": null,
   "metadata": {},
   "outputs": [],
   "source": []
  }
 ],
 "metadata": {
  "kernelspec": {
   "display_name": "base",
   "language": "python",
   "name": "python3"
  },
  "language_info": {
   "codemirror_mode": {
    "name": "ipython",
    "version": 3
   },
   "file_extension": ".py",
   "mimetype": "text/x-python",
   "name": "python",
   "nbconvert_exporter": "python",
   "pygments_lexer": "ipython3",
   "version": "3.11.5"
  }
 },
 "nbformat": 4,
 "nbformat_minor": 2
}
