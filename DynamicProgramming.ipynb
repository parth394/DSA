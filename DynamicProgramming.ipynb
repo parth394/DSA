{
 "cells": [
  {
   "cell_type": "markdown",
   "metadata": {},
   "source": [
    "# Dynamic Programming Questinons"
   ]
  },
  {
   "cell_type": "markdown",
   "metadata": {},
   "source": [
    "## 0-1 Knapsack Problem"
   ]
  },
  {
   "cell_type": "markdown",
   "metadata": {},
   "source": [
    "### Recursive Solution"
   ]
  },
  {
   "cell_type": "code",
   "execution_count": 32,
   "metadata": {},
   "outputs": [
    {
     "name": "stdout",
     "output_type": "stream",
     "text": [
      "CPU times: total: 0 ns\n",
      "Wall time: 0 ns\n"
     ]
    },
    {
     "data": {
      "text/plain": [
       "9"
      ]
     },
     "execution_count": 32,
     "metadata": {},
     "output_type": "execute_result"
    }
   ],
   "source": [
    "%time\n",
    "def knapsackRecur(wt: list[int], val: list[int], W: int, n: int)-> int:\n",
    "    # Base Case\n",
    "    if n == 0 or W == 0:\n",
    "        return 0\n",
    "    # Choice Diagram Code\n",
    "    if wt[n-1] <= W:\n",
    "        return max( val[n-1] + knapsackRecur(wt, val, W-wt[n-1], n-1),  knapsackRecur(wt, val, W, n-1) )\n",
    "    else:\n",
    "        return knapsackRecur(wt, val, W, n-1)\n",
    "    \n",
    "wt = [ 1, 3,4,5]\n",
    "val = [1,4, 5, 7]\n",
    "W =7\n",
    "n = len(wt)\n",
    "\n",
    "knapsackRecur(wt, val, W, n)"
   ]
  },
  {
   "cell_type": "markdown",
   "metadata": {},
   "source": [
    "### Memoisation"
   ]
  },
  {
   "cell_type": "code",
   "execution_count": 31,
   "metadata": {},
   "outputs": [
    {
     "name": "stdout",
     "output_type": "stream",
     "text": [
      "CPU times: total: 0 ns\n",
      "Wall time: 0 ns\n"
     ]
    },
    {
     "data": {
      "text/plain": [
       "9"
      ]
     },
     "execution_count": 31,
     "metadata": {},
     "output_type": "execute_result"
    }
   ],
   "source": [
    "\n",
    "n = 10\n",
    "W = w = 7\n",
    "\n",
    "t = [[-1]*(n+1) for _ in range(w+1)]\n",
    "%time\n",
    "def knapsackMem(wt: list[int], val: list[int], W: int, n: int)-> int:\n",
    "    if n==0 or W == 0:\n",
    "        return 0\n",
    "    if t[n][W] != -1:\n",
    "        return t[n][W]\n",
    "    elif wt[n-1] <= W:\n",
    "        t[n][W] = max(val[n-1] + knapsackMem(wt, val, W - wt[n-1], n-1), knapsackMem(wt, val, W, n-1))\n",
    "    elif wt[n-1] > W:\n",
    "        t[n][W] = knapsackMem(wt, val, W, n-1)\n",
    "    return t[n][W]\n",
    "wt = [ 1, 3,4,5]\n",
    "val = [1,4, 5, 7]\n",
    "n = len(wt)\n",
    "knapsackMem(wt, val, W, n)"
   ]
  },
  {
   "cell_type": "markdown",
   "metadata": {},
   "source": [
    "### Tabulation Approach"
   ]
  },
  {
   "cell_type": "code",
   "execution_count": 46,
   "metadata": {},
   "outputs": [
    {
     "data": {
      "text/plain": [
       "9"
      ]
     },
     "execution_count": 46,
     "metadata": {},
     "output_type": "execute_result"
    }
   ],
   "source": [
    "W = 100\n",
    "N = 100\n",
    "t = [[None] * (N+1) for _ in range(W + 1)]\n",
    "def knapsackdp(wt: list[int], val: list[int], W: int, n: int)-> int:\n",
    "    for i in range(n+1):\n",
    "        for j in range(W+1):\n",
    "            if i == 0 or j == 0 :\n",
    "                t[i][j] = 0\n",
    "            elif wt[i-1] <= j:\n",
    "                t[i][j] = max(val[i-1] + t[i-1][j-wt[i-1]], t[i-1][j])\n",
    "            elif wt[i-1] > j:\n",
    "                t[i][j] = t[i-1][j]\n",
    "    return t[n][W]\n",
    "\n",
    "wt = [ 1, 3,4,5]\n",
    "val = [1,4, 5, 7]\n",
    "n = len(wt)\n",
    "W = 7\n",
    "knapsackdp(wt, val, W, n)"
   ]
  },
  {
   "cell_type": "markdown",
   "metadata": {},
   "source": [
    "### 1. Subset Sum Problem"
   ]
  },
  {
   "cell_type": "code",
   "execution_count": 72,
   "metadata": {},
   "outputs": [
    {
     "data": {
      "text/plain": [
       "True"
      ]
     },
     "execution_count": 72,
     "metadata": {},
     "output_type": "execute_result"
    }
   ],
   "source": [
    "n = 20\n",
    "W = 20\n",
    "\n",
    "t = [[None] * (n+1) for _ in range(W + 1)]\n",
    "def subsetSum(arr: list[int], Sum: int)-> bool:\n",
    "    n = len(arr)\n",
    "    for i in range(n+1):\n",
    "        for j in range(Sum + 1):\n",
    "            if i == 0: \n",
    "                t[i][j] = False\n",
    "            if j == 0:\n",
    "                t[i][j] = True\n",
    "            else:\n",
    "                if arr[i-1] <= j:\n",
    "                    t[i][j] = t[i-1][j-arr[i-1]] or t[i-1][j]\n",
    "                elif arr[i-1] > j:\n",
    "                    t[i][j] = t[i-1][j]\n",
    "    return t[n][Sum]\n",
    "\n",
    "arr = [1, 2, 3, 7, 8, 10]\n",
    "Sum = 11\n",
    "subsetSum(arr, Sum)"
   ]
  },
  {
   "cell_type": "markdown",
   "metadata": {},
   "source": [
    "### Equal Sum Partition"
   ]
  },
  {
   "cell_type": "code",
   "execution_count": 59,
   "metadata": {},
   "outputs": [
    {
     "data": {
      "text/plain": [
       "True"
      ]
     },
     "execution_count": 59,
     "metadata": {},
     "output_type": "execute_result"
    }
   ],
   "source": [
    "def equalSumPartition(arr: list[int]) -> bool:\n",
    "    Sum = sum(arr)\n",
    "    if Sum %2 != 0:\n",
    "        return False\n",
    "    t = [[None] * (len(arr)+1) for _ in range((Sum//2) + 1)]\n",
    "    return subsetSum(arr, Sum//2)\n",
    "arr = [ 1, 5 ,11, 5]\n",
    "equalSumPartition(arr)"
   ]
  },
  {
   "cell_type": "markdown",
   "metadata": {},
   "source": [
    "### Count Subsets Sum"
   ]
  },
  {
   "cell_type": "code",
   "execution_count": 67,
   "metadata": {},
   "outputs": [
    {
     "data": {
      "text/plain": [
       "3"
      ]
     },
     "execution_count": 67,
     "metadata": {},
     "output_type": "execute_result"
    }
   ],
   "source": [
    "n = 100\n",
    "W = 100\n",
    "t = [[0] * (n+1) for _ in range(W+1)]\n",
    "def countSubsetSum(arr: list[int], W: int, n: int)-> int:\n",
    "    for i in range(n+1):\n",
    "        for j in range(W + 1):\n",
    "            if i == 0 :\n",
    "                t[i][j] = 0\n",
    "            if j == 0:\n",
    "                t[i][j] = 1\n",
    "            else:\n",
    "                if arr[i-1] <= j:\n",
    "                    t[i][j] = t[i-1][j-arr[i-1]] + t[i-1][j]\n",
    "                if arr[i-1] > j:\n",
    "                    t[i][j] = t[i-1][j]\n",
    "    return t[n][W]\n",
    "arr = [2 ,3, 5, 6, 8, 10]\n",
    "countSubsetSum(arr, 10, len(arr))"
   ]
  },
  {
   "cell_type": "markdown",
   "metadata": {},
   "source": [
    "### Minimum Subset Difference"
   ]
  },
  {
   "cell_type": "code",
   "execution_count": 330,
   "metadata": {},
   "outputs": [
    {
     "data": {
      "text/plain": [
       "1"
      ]
     },
     "execution_count": 330,
     "metadata": {},
     "output_type": "execute_result"
    }
   ],
   "source": [
    "def subsetSum_(arr: list[int], Sum: int)-> bool:\n",
    "    t = [[None] * (Sum+1) for _ in range(len(arr) + 1)]\n",
    "    n = len(arr)\n",
    "    for i in range(n+1):\n",
    "        for j in range(Sum + 1):\n",
    "            if i == 0:\n",
    "                t[i][j] = False\n",
    "            if j == 0:\n",
    "                t[i][j] = True\n",
    "            else:\n",
    "                if arr[i-1] <= j:\n",
    "                    t[i][j] = t[i-1][j-arr[i-1]] or t[i-1][j]\n",
    "                elif arr[i-1] > j:\n",
    "                    t[i][j] = t[i-1][j]\n",
    "    return t\n",
    "\n",
    "def minSubsetDiff(arr: list[int])-> int:\n",
    "    n = len(arr)\n",
    "    Sum = sum(arr)\n",
    "    t = subsetSum_(arr, Sum)\n",
    "    # print(t[-1])\n",
    "    v = t[-1][:(Sum//2)+1]\n",
    "    mn = float('inf')\n",
    "    for i, v_ in enumerate(v):\n",
    "        if v_:\n",
    "            mn = min(mn, Sum - 2 * i)\n",
    "    return mn\n",
    "\n",
    "arr = [1, 6, 11, 5]\n",
    "minSubsetDiff(arr)"
   ]
  },
  {
   "cell_type": "markdown",
   "metadata": {},
   "source": [
    "### Count of Subset with given diff"
   ]
  },
  {
   "cell_type": "code",
   "execution_count": 101,
   "metadata": {},
   "outputs": [
    {
     "data": {
      "text/plain": [
       "2"
      ]
     },
     "execution_count": 101,
     "metadata": {},
     "output_type": "execute_result"
    }
   ],
   "source": [
    "n=100\n",
    "m=100\n",
    "t = [[0]*(n+1) for _ in range(m+1)]\n",
    "def countSubsetDiff(arr: list[int], diff: int) -> int:\n",
    "    s1Sum = (sum(arr) + diff)//2\n",
    "    return countSubsetSum(arr, s1Sum, len(arr))\n",
    "arr = [1,2,3]\n",
    "countSubsetDiff(arr, 1)"
   ]
  },
  {
   "cell_type": "markdown",
   "metadata": {},
   "source": [
    "## Unbounded Knapsack"
   ]
  },
  {
   "cell_type": "markdown",
   "metadata": {},
   "source": [
    "### Rod Cutting Porblem"
   ]
  },
  {
   "cell_type": "code",
   "execution_count": 112,
   "metadata": {},
   "outputs": [
    {
     "data": {
      "text/plain": [
       "22"
      ]
     },
     "execution_count": 112,
     "metadata": {},
     "output_type": "execute_result"
    }
   ],
   "source": [
    "m = n = 100\n",
    "t = [[0]*(n+1) for _ in range(m+1)]\n",
    "def rodCutting(length: list[int], price: list[int], N: int)-> int:\n",
    "    for i in range(N+1):\n",
    "        for j in range(len(length)+1):\n",
    "            # print(i,j)\n",
    "            if i == 0:\n",
    "                t[i][j] = 0\n",
    "            if j == 0:\n",
    "                t[i][j] = 0\n",
    "            else:\n",
    "                if length[i-1] <= j:\n",
    "                    t[i][j] = max(price[i-1] + t[i][j - length[i-1]], t[i-1][j])\n",
    "                elif length[i-1] > j:\n",
    "                    t[i][j] = t[i-1][j]\n",
    "    return t[N][len(length)]\n",
    "length = [1, 2, 3, 4, 5, 6, 7, 8]\n",
    "price =  [1, 5, 8, 9, 10, 17, 17, 20]\n",
    "rodCutting(length, price, len(length))"
   ]
  },
  {
   "cell_type": "markdown",
   "metadata": {},
   "source": [
    "### Coin Change 1"
   ]
  },
  {
   "cell_type": "code",
   "execution_count": 145,
   "metadata": {},
   "outputs": [
    {
     "data": {
      "text/plain": [
       "5"
      ]
     },
     "execution_count": 145,
     "metadata": {},
     "output_type": "execute_result"
    }
   ],
   "source": [
    "n = 3\n",
    "s = 5\n",
    "t = [[0] * (s+1) for _ in range(n+1)]\n",
    "def coinChange(coin: list[int], Sum: int)-> int:\n",
    "    for i in range(len(coin)+1):\n",
    "        for j in range(Sum + 1):\n",
    "            if i == 0:\n",
    "                t[i][j]=0\n",
    "            if j == 0:\n",
    "                t[i][j]=1\n",
    "            else:\n",
    "                if coin[i-1] <= j:\n",
    "                    t[i][j] = t[i][j-coin[i-1]]+ t[i-1][j]\n",
    "                elif coin[i-1] > j:\n",
    "                    t[i][j] = t[i-1][j]\n",
    "    return t[len(coin)][Sum]\n",
    "coin = [1, 2, 5]\n",
    "coinChange(coin, s)"
   ]
  },
  {
   "cell_type": "code",
   "execution_count": null,
   "metadata": {},
   "outputs": [],
   "source": []
  },
  {
   "cell_type": "markdown",
   "metadata": {},
   "source": [
    "### Coin Change 2"
   ]
  },
  {
   "cell_type": "code",
   "execution_count": 3,
   "metadata": {},
   "outputs": [
    {
     "data": {
      "text/plain": [
       "0"
      ]
     },
     "execution_count": 3,
     "metadata": {},
     "output_type": "execute_result"
    }
   ],
   "source": [
    "coin = [1, 2, 3]\n",
    "n = len(coin)\n",
    "s =5\n",
    "t = [[0] * (s+1) for _ in range(n+1)]\n",
    "def coinChange2(coin: list[int], Sum: int)-> int: \n",
    "    n = len(coin)\n",
    "    for i in range(n+1):\n",
    "        for j in range(Sum + 1):\n",
    "            if j == 0 :\n",
    "                # print(i,j)\n",
    "                t[i][j] == 0\n",
    "            if i == 0:\n",
    "                t[i][j] == float('inf') - 1\n",
    "            if i == 1 and j > 0:\n",
    "                # print(i,j)\n",
    "                if j % coin[i-1] == 0:\n",
    "                    t[i][j] == 1\n",
    "                else:\n",
    "                    t[i][j] = float('inf') -1 \n",
    "            else:\n",
    "                if coin[i-1] <= j:\n",
    "                    t[i][j] = min( 1 + t[i][j-coin[i-1]], t[i-1][j])\n",
    "                else:\n",
    "                    t[i][j] = t[i-1][j]\n",
    "    return t[n][Sum]\n",
    "coinChange2(coin, s)        "
   ]
  },
  {
   "cell_type": "code",
   "execution_count": 4,
   "metadata": {},
   "outputs": [
    {
     "name": "stdout",
     "output_type": "stream",
     "text": [
      "[0, 0, 0, 0, 0, 0]\n",
      "[0, 0, 0, 0, 0, 0]\n",
      "[0, 0, 0, 0, 0, 0]\n",
      "[0, 0, 0, 0, 0, 0]\n"
     ]
    }
   ],
   "source": [
    "for ele in t:\n",
    "    print(ele)"
   ]
  },
  {
   "cell_type": "markdown",
   "metadata": {},
   "source": [
    "## LCS"
   ]
  },
  {
   "cell_type": "markdown",
   "metadata": {},
   "source": [
    "### Recursive Solution"
   ]
  },
  {
   "cell_type": "code",
   "execution_count": 188,
   "metadata": {},
   "outputs": [
    {
     "data": {
      "text/plain": [
       "3"
      ]
     },
     "execution_count": 188,
     "metadata": {},
     "output_type": "execute_result"
    }
   ],
   "source": [
    "def LCSRecur(x: str, y: str, m: int, n: int)-> int:\n",
    "    if m == 0 or n == 0:\n",
    "        return 0\n",
    "    if x[m-1] == y[n-1]:\n",
    "        return 1 + LCSRecur(x, y, m-1, n-1)\n",
    "    else:\n",
    "        return max(LCSRecur(x, y, m, n-1), LCSRecur(x, y, m-1, n))\n",
    "\n",
    "x = \"abcd\"\n",
    "y = \"zbcsdf\"\n",
    "LCSRecur(x, y, len(x), len(y))"
   ]
  },
  {
   "cell_type": "markdown",
   "metadata": {},
   "source": [
    "### Memoization Solution"
   ]
  },
  {
   "cell_type": "code",
   "execution_count": 269,
   "metadata": {},
   "outputs": [
    {
     "data": {
      "text/plain": [
       "3"
      ]
     },
     "execution_count": 269,
     "metadata": {},
     "output_type": "execute_result"
    }
   ],
   "source": [
    "\n",
    "x = \"abcd\"\n",
    "y = \"zbcsdf\"\n",
    "m = len(x)\n",
    "n = len(y)\n",
    "t = [[-1] * (n+1) for _ in range(m+1)]\n",
    "\n",
    "def LCSMem(x: str, y: str, m: int, n: int)-> int:\n",
    "    if m==0 or n==0:\n",
    "        return 0\n",
    "    if t[m][n]!=-1:\n",
    "        return t[m][n]\n",
    "    elif x[m-1] == y[n-1]:\n",
    "        t[m][n] = 1 + LCSMem(x, y, m-1, n-1)\n",
    "    else:\n",
    "        t[m][n] = max( LCSMem(x, y, m, n-1), LCSMem(x, y, m-1, n))\n",
    "    return t[m][n]\n",
    "LCSMem(x, y, m, n)"
   ]
  },
  {
   "cell_type": "markdown",
   "metadata": {},
   "source": [
    "### Bottom Up Solution"
   ]
  },
  {
   "cell_type": "code",
   "execution_count": 288,
   "metadata": {},
   "outputs": [
    {
     "data": {
      "text/plain": [
       "3"
      ]
     },
     "execution_count": 288,
     "metadata": {},
     "output_type": "execute_result"
    }
   ],
   "source": [
    "x = \"zabcy\"\n",
    "y = \"kabcf\"\n",
    "m = len(x)\n",
    "n = len(y)\n",
    "t = [[-1] * (n+1) for _ in range(m+1)]\n",
    "\n",
    "def LCSTab(x: str, y: str, m: int, n: int)-> int:\n",
    "    for i in range(m+1):\n",
    "        for j in range(n+1):\n",
    "            # Initializing\n",
    "            if i == 0 or j == 0:\n",
    "                t[i][j] = 0\n",
    "            elif x[i-1] == y[j-1]:\n",
    "                t[i][j] = 1 + t[i-1][j-1]\n",
    "            else:\n",
    "                t[i][j] = max(t[i-1][j], t[i][j-1])\n",
    "    return t[m][n]\n",
    "LCSTab(x, y, m, n)"
   ]
  },
  {
   "cell_type": "markdown",
   "metadata": {},
   "source": [
    "### Longest Common Substring"
   ]
  },
  {
   "cell_type": "code",
   "execution_count": 273,
   "metadata": {},
   "outputs": [
    {
     "data": {
      "text/plain": [
       "2"
      ]
     },
     "execution_count": 273,
     "metadata": {},
     "output_type": "execute_result"
    }
   ],
   "source": [
    "x = \"abcd\"\n",
    "y = \"zbcsdf\"\n",
    "m = len(x)\n",
    "n = len(y)\n",
    "t = [[-1] * (n+1) for _ in range(m+1)]\n",
    "def longestCommonSubstring(a: list[int], b: list[int], m: int, n: int)-> int:\n",
    "    for i in range(m+1):\n",
    "        for j in range(n+1):\n",
    "            if i == 0 or j==0:\n",
    "                t[i][j] = 0\n",
    "            if a[i-1]==b[j-1]:\n",
    "                t[i][j] = 1 + t[i-1][j-1]\n",
    "            else:\n",
    "                t[i][j] = 0\n",
    "    mn = -float('inf')\n",
    "    for l in t:\n",
    "        for ele in l:\n",
    "            mn = max(mn, ele)\n",
    "    return mn\n",
    "longestCommonSubstring(x, y, m, n)"
   ]
  },
  {
   "cell_type": "markdown",
   "metadata": {},
   "source": [
    "### Print LCS"
   ]
  },
  {
   "cell_type": "code",
   "execution_count": 283,
   "metadata": {},
   "outputs": [
    {
     "data": {
      "text/plain": [
       "'bcd'"
      ]
     },
     "execution_count": 283,
     "metadata": {},
     "output_type": "execute_result"
    }
   ],
   "source": [
    "x = \"abcd\"\n",
    "y = \"zbcsdf\"\n",
    "m = len(x)\n",
    "n = len(y)\n",
    "t = [[-1] * (n+1) for _ in range(m+1)]\n",
    "\n",
    "def printLCS(x: list[int], y: list[int], m: int, n: int)-> None:\n",
    "    for i in range(m+1):\n",
    "        for j in range(n+1):\n",
    "            if i == 0 or j ==0 :\n",
    "                t[i][j]=0\n",
    "            if x[i-1]==y[j-1]:\n",
    "                t[i][j] = 1 + t[i-1][j-1]\n",
    "            else:\n",
    "                t[i][j] = max(t[i-1][j], t[i][j-1])\n",
    "    i=m\n",
    "    j=n\n",
    "    s = \"\"\n",
    "    while i > 0 and j > 0:\n",
    "        if x[i-1] == y[j-1]:\n",
    "            s = x[i-1] + s\n",
    "            i-=1\n",
    "            j-=1\n",
    "        else:\n",
    "            if t[i][j-1]>t[i-1][j]:\n",
    "                j-=1\n",
    "            else:\n",
    "                i-=1\n",
    "    return s\n",
    "printLCS(x, y, m, n)"
   ]
  },
  {
   "cell_type": "markdown",
   "metadata": {},
   "source": [
    "### Shortest Common SuperSequence"
   ]
  },
  {
   "cell_type": "code",
   "execution_count": 289,
   "metadata": {},
   "outputs": [
    {
     "data": {
      "text/plain": [
       "4"
      ]
     },
     "execution_count": 289,
     "metadata": {},
     "output_type": "execute_result"
    }
   ],
   "source": [
    "x = \"ab\"\n",
    "y = \"zbd\"\n",
    "m = len(x)\n",
    "n = len(y)\n",
    "t = [[-1] * (n+1) for _ in range(m+1)]\n",
    "def shortestCommonSuperSequence(x: list[int], y: list[int], m: int, n: int)-> int:\n",
    "    return m + n - LCSTab(x, y, m, n)\n",
    "shortestCommonSuperSequence(x, y, m, n)"
   ]
  },
  {
   "cell_type": "markdown",
   "metadata": {},
   "source": [
    "### Min # Insertion and Deletions"
   ]
  },
  {
   "cell_type": "code",
   "execution_count": 290,
   "metadata": {},
   "outputs": [
    {
     "data": {
      "text/plain": [
       "(2, 1)"
      ]
     },
     "execution_count": 290,
     "metadata": {},
     "output_type": "execute_result"
    }
   ],
   "source": [
    "x = \"heap\"\n",
    "y = \"pea\"\n",
    "m = len(x)\n",
    "n = len(y)\n",
    "t = [[-1] * (n+1) for _ in range(m+1)]\n",
    "def minInsertionDeletion(x: list[int], y: list[int], m: int, n: int)-> (int, int):\n",
    "    lcs = LCSTab(x, y, m, n)\n",
    "    return (len(x) - lcs, len(y)-lcs)\n",
    "minInsertionDeletion(x, y, m, n)"
   ]
  },
  {
   "cell_type": "markdown",
   "metadata": {},
   "source": [
    "### Longest Palindromic Subsequence ( LPS)"
   ]
  },
  {
   "cell_type": "code",
   "execution_count": 298,
   "metadata": {},
   "outputs": [
    {
     "data": {
      "text/plain": [
       "5"
      ]
     },
     "execution_count": 298,
     "metadata": {},
     "output_type": "execute_result"
    }
   ],
   "source": [
    "x = \"agbcba\"\n",
    "# y = \"zbd\"\n",
    "m = len(x)\n",
    "# n = len(y)\n",
    "t = [[-1] * (m+1) for _ in range(m+1)]\n",
    "def longestPalindromicSubsequence(x: list[int], m: int)-> int:\n",
    "    y = x[::-1]\n",
    "    return LCSTab(x, y, m, m)\n",
    "longestPalindromicSubsequence(x, m)"
   ]
  },
  {
   "cell_type": "markdown",
   "metadata": {},
   "source": [
    "### Min Number of deletions to make a palindrome"
   ]
  },
  {
   "cell_type": "code",
   "execution_count": 299,
   "metadata": {},
   "outputs": [
    {
     "data": {
      "text/plain": [
       "1"
      ]
     },
     "execution_count": 299,
     "metadata": {},
     "output_type": "execute_result"
    }
   ],
   "source": [
    "x = \"agbcba\"\n",
    "# y = \"zbd\"\n",
    "m = len(x)\n",
    "# n = len(y)\n",
    "t = [[-1] * (m+1) for _ in range(m+1)]\n",
    "def minDeletionPalindrome(x: list[int], m: int)-> int:\n",
    "    y = x[::-1]\n",
    "    return m - LCSTab(x, y, m, m)\n",
    "minDeletionPalindrome(x, m)"
   ]
  },
  {
   "cell_type": "markdown",
   "metadata": {},
   "source": [
    "### Print Shortest Common Supersequence"
   ]
  },
  {
   "cell_type": "code",
   "execution_count": 311,
   "metadata": {},
   "outputs": [
    {
     "name": "stdout",
     "output_type": "stream",
     "text": [
      "[0, 0, 0, 0, 0, 0]\n",
      "[0, 1, 1, 1, 1, 1]\n",
      "[0, 1, 1, 2, 2, 2]\n",
      "[0, 1, 2, 2, 3, 3]\n",
      "[0, 1, 2, 2, 3, 3]\n",
      "[0, 1, 2, 2, 3, 3]\n",
      "[0, 1, 2, 2, 3, 4]\n",
      "6 5\n",
      "5 4\n",
      "4 4\n",
      "3 4\n",
      "2 3\n",
      "1 2\n",
      "1 1\n"
     ]
    },
    {
     "data": {
      "text/plain": [
       "'acbcdaf'"
      ]
     },
     "execution_count": 311,
     "metadata": {},
     "output_type": "execute_result"
    }
   ],
   "source": [
    "x = \"abcdaf\"\n",
    "y = \"acbcf\"\n",
    "m = len(x)\n",
    "n = len(y)\n",
    "t = [[-1] * (n+1) for _ in range(m+1)]\n",
    "def printShortestCommonSuperSequence(x: list[int], y: list[int], m: int, n: int)-> int:\n",
    "    LCSTab(x, y, m, n)\n",
    "    for ele in t:\n",
    "        print(ele)\n",
    "    i = m\n",
    "    j = n\n",
    "    s = \"\"\n",
    "    while i > 0 and j > 0:\n",
    "        print(i,j)\n",
    "        if x[i-1]==y[j-1]:\n",
    "            s = x[i-1] + s\n",
    "            i-=1\n",
    "            j-=1\n",
    "        else:\n",
    "            if t[i][j-1]> t[i-1][j]:\n",
    "                s = y[j-1]  +s\n",
    "                j-=1\n",
    "            else:\n",
    "                s = x[i-1] + s\n",
    "                i-=1\n",
    "    while i > 0:\n",
    "        s = x[i-1] + s\n",
    "        i-=1\n",
    "    while j > 0:\n",
    "        s = y[j-1] + s\n",
    "        j-=1\n",
    "    return s\n",
    "printShortestCommonSuperSequence(x, y, m, n)"
   ]
  },
  {
   "cell_type": "markdown",
   "metadata": {},
   "source": [
    "### Longest Repeating SubSequence"
   ]
  },
  {
   "cell_type": "code",
   "execution_count": 323,
   "metadata": {},
   "outputs": [
    {
     "name": "stdout",
     "output_type": "stream",
     "text": [
      "[0, 0, 0, 0, 0, 0, 0, 0, 0]\n",
      "[0, 0, 1, 1, 1, 1, 1, 1, 1]\n",
      "[0, 1, 1, 1, 1, 1, 1, 1, 1]\n",
      "[0, 1, 1, 1, 1, 2, 2, 2, 2]\n",
      "[0, 1, 1, 1, 1, 2, 2, 2, 2]\n",
      "[0, 1, 1, 2, 2, 2, 2, 2, 2]\n",
      "[0, 1, 1, 2, 2, 2, 2, 2, 2]\n",
      "[0, 1, 1, 2, 2, 2, 2, 2, 3]\n",
      "[0, 1, 1, 2, 2, 2, 2, 3, 3]\n"
     ]
    }
   ],
   "source": [
    "x = \"aabebcdd\"\n",
    "m = len(x)\n",
    "t = [[0] * (m+1) for _ in range(m+1)]\n",
    "def longestRepeatingSubSequence(x: str, y: str, m: int, n:int )-> int:\n",
    "    for i in range(m+1):\n",
    "        for j in range(n+1):\n",
    "            if i == 0 or j == 0:\n",
    "                t[i][j]=0\n",
    "            else:\n",
    "                if x[i-1] == y[j-1] and i != j:\n",
    "                    t[i][j] = 1 + t[i-1][j-1]\n",
    "                else:\n",
    "                    t[i][j] = max(t[i-1][j], t[i][j-1])\n",
    "    return t[m][n]\n",
    "longestRepeatingSubSequence(x, x, m, m)\n",
    "for ele in t:\n",
    "    print(ele)"
   ]
  },
  {
   "cell_type": "markdown",
   "metadata": {},
   "source": [
    "### Sequence Pattern Matching"
   ]
  },
  {
   "cell_type": "code",
   "execution_count": 324,
   "metadata": {},
   "outputs": [
    {
     "data": {
      "text/plain": [
       "True"
      ]
     },
     "execution_count": 324,
     "metadata": {},
     "output_type": "execute_result"
    }
   ],
   "source": [
    "x = \"axy\"\n",
    "y = \"adxcpy\"\n",
    "m = len(x)\n",
    "n = len(y)\n",
    "t = [[0] * (n+1) for _ in range(m+1)]\n",
    "def sequencePatternMatching(x: str, y: str, m: int, n: int)-> bool:\n",
    "    return LCSTab(x, y, m, n) == len(x)\n",
    "sequencePatternMatching(x, y, m, n)"
   ]
  },
  {
   "cell_type": "markdown",
   "metadata": {},
   "source": [
    "### Min # insertions required to make a palindrome"
   ]
  },
  {
   "cell_type": "code",
   "execution_count": 327,
   "metadata": {},
   "outputs": [
    {
     "data": {
      "text/plain": [
       "2"
      ]
     },
     "execution_count": 327,
     "metadata": {},
     "output_type": "execute_result"
    }
   ],
   "source": [
    "x = \"aebcbda\"\n",
    "m = len(x)\n",
    "t = [[0] * (m+1) for _ in range(m+1)]\n",
    "def minInsertionPalindrome(x: str, m: int)-> int:\n",
    "    return len(x) - longestPalindromicSubsequence(x, m)\n",
    "minInsertionPalindrome(x, m)"
   ]
  },
  {
   "cell_type": "markdown",
   "metadata": {},
   "source": [
    "## Matrix Chain Multiplication Problems"
   ]
  },
  {
   "cell_type": "code",
   "execution_count": null,
   "metadata": {},
   "outputs": [],
   "source": []
  }
 ],
 "metadata": {
  "kernelspec": {
   "display_name": "base",
   "language": "python",
   "name": "python3"
  },
  "language_info": {
   "codemirror_mode": {
    "name": "ipython",
    "version": 3
   },
   "file_extension": ".py",
   "mimetype": "text/x-python",
   "name": "python",
   "nbconvert_exporter": "python",
   "pygments_lexer": "ipython3",
   "version": "3.11.5"
  }
 },
 "nbformat": 4,
 "nbformat_minor": 2
}
