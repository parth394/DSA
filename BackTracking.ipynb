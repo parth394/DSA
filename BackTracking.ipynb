{
 "cells": [
  {
   "cell_type": "markdown",
   "metadata": {},
   "source": [
    "# Backtracking\n",
    "\n",
    "## String Permutation"
   ]
  },
  {
   "cell_type": "code",
   "execution_count": 5,
   "metadata": {},
   "outputs": [
    {
     "data": {
      "text/plain": [
       "['abc', 'acb', 'bac', 'bca', 'cba', 'cab']"
      ]
     },
     "execution_count": 5,
     "metadata": {},
     "output_type": "execute_result"
    }
   ],
   "source": [
    "def string_swap(s: str, pos1: int, pos2: int):\n",
    "    s = list(s)\n",
    "    s[pos1], s[pos2] = s[pos2], s[pos1]\n",
    "    s=''.join(s)\n",
    "    return s\n",
    "    \n",
    "def solve(s: str, start: int, temp: list[str]):\n",
    "    if start == len(s):\n",
    "        temp.append(s)\n",
    "        return\n",
    "    mapping = set()\n",
    "    for i in range(start, len(s)):\n",
    "        if s[i] not in mapping:\n",
    "            mapping.add(s[i])\n",
    "            s = string_swap(s, start, i)\n",
    "            solve(s, start+1, temp)\n",
    "            s = string_swap(s, start, i)\n",
    "    return temp\n",
    "def stringPermutation(s: str):\n",
    "    temp=[]\n",
    "    start=0\n",
    "    return solve(s, start, temp)\n",
    "s = \"abc\"\n",
    "stringPermutation(s)"
   ]
  },
  {
   "cell_type": "markdown",
   "metadata": {},
   "source": [
    "## Largest Number with K swaps"
   ]
  },
  {
   "cell_type": "code",
   "execution_count": 37,
   "metadata": {},
   "outputs": [
    {
     "name": "stdout",
     "output_type": "stream",
     "text": [
      "98532\n"
     ]
    }
   ],
   "source": [
    "def solve(s: list[int], k: int, start: int):\n",
    "    n=len(s)\n",
    "    if k == 0 or start==n-1:\n",
    "        print(''.join(map(str, s)))\n",
    "        return\n",
    "    mx = max(s[start:])\n",
    "    if mx >= s[start]:\n",
    "        ind = s.index(mx)\n",
    "        s[start], s[ind] = s[ind], s[start]\n",
    "        solve(s, k-1, start+1)\n",
    "        s[start], s[ind] = s[ind], s[start]\n",
    "\n",
    "def largestkSwapNumber(s: str, k: int):\n",
    "    start=0\n",
    "    s = list(map(int, list(s)))\n",
    "    solve(s, k, start)\n",
    "s=\"53289\"\n",
    "largestkSwapNumber(s, k=4)"
   ]
  },
  {
   "cell_type": "code",
   "execution_count": null,
   "metadata": {},
   "outputs": [],
   "source": []
  }
 ],
 "metadata": {
  "kernelspec": {
   "display_name": "base",
   "language": "python",
   "name": "python3"
  },
  "language_info": {
   "codemirror_mode": {
    "name": "ipython",
    "version": 3
   },
   "file_extension": ".py",
   "mimetype": "text/x-python",
   "name": "python",
   "nbconvert_exporter": "python",
   "pygments_lexer": "ipython3",
   "version": "3.11.5"
  }
 },
 "nbformat": 4,
 "nbformat_minor": 2
}
