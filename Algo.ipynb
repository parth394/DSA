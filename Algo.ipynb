{
 "cells": [
  {
   "cell_type": "markdown",
   "metadata": {},
   "source": [
    "## Matrix"
   ]
  },
  {
   "cell_type": "markdown",
   "metadata": {},
   "source": [
    "\n",
    "### Spiral"
   ]
  },
  {
   "cell_type": "code",
   "execution_count": 49,
   "metadata": {},
   "outputs": [
    {
     "name": "stdout",
     "output_type": "stream",
     "text": [
      "1 2 3 4 8 12 16 15 14 13 9 5 6 7 11 10 "
     ]
    }
   ],
   "source": [
    "def spiral(mat):\n",
    "    R = len(mat)\n",
    "    C = len(mat[0])\n",
    "\n",
    "    top = 0 \n",
    "    left = 0\n",
    "    right = C-1\n",
    "    bottom = R-1\n",
    "\n",
    "    while top<=bottom and left <= right:\n",
    "        for i in range(left, right+1):\n",
    "            print(mat[top][i], end=\" \")\n",
    "        top+=1\n",
    "        for j in range(top, bottom+1):\n",
    "            print(mat[j][right], end=\" \")\n",
    "        right-=1\n",
    "        if top <= bottom:\n",
    "            for i in range(right, left-1, -1):\n",
    "                print(mat[bottom][i], end=\" \")\n",
    "            bottom-=1\n",
    "        if left <= right:\n",
    "            for j in range(bottom, top-1, -1):\n",
    "                print(mat[j][left], end=\" \")\n",
    "            left +=1\n",
    "mat = [[1,2,3,4], [5,6,7,8], [9, 10, 11,12], [13,14,15,16]]\n",
    "spiral(mat)"
   ]
  },
  {
   "cell_type": "code",
   "execution_count": 50,
   "metadata": {},
   "outputs": [
    {
     "name": "stdout",
     "output_type": "stream",
     "text": [
      "1 2 3 4 8 7 6 5 "
     ]
    }
   ],
   "source": [
    "mat = [[1,2,3,4], [5,6,7,8]]\n",
    "spiral(mat)"
   ]
  },
  {
   "cell_type": "markdown",
   "metadata": {},
   "source": [
    "### Find Element in column and row sorted matrix"
   ]
  },
  {
   "cell_type": "code",
   "execution_count": 25,
   "metadata": {},
   "outputs": [
    {
     "name": "stdout",
     "output_type": "stream",
     "text": [
      "2 0\n"
     ]
    }
   ],
   "source": [
    "# Print the position of the element in the row sorted matrix\n",
    "def find_col_sorted_mat(mat, x):\n",
    "    i = 0 \n",
    "    j = len(mat[0])-1\n",
    "    N = len(mat)\n",
    "\n",
    "    while i < N and j >=0:\n",
    "        if x < mat[i][j]:\n",
    "            j-=1\n",
    "        elif x > mat[i][j]:\n",
    "            i+=1\n",
    "        elif x == mat[i][j]:\n",
    "            print(i,j)\n",
    "            break\n",
    "    if  i >= N or j < 0:\n",
    "        print(\"The element was not found\")\n",
    "\n",
    "mat = [\n",
    "    [10, 20, 30, 40],\n",
    "    [15, 25, 35, 45],\n",
    "    [27, 29, 37, 48],\n",
    "    [32, 33, 39, 50]\n",
    "    ]\n",
    "\n",
    "find_col_sorted_mat(mat, 27)"
   ]
  },
  {
   "cell_type": "markdown",
   "metadata": {},
   "source": [
    "## Graphs"
   ]
  },
  {
   "cell_type": "markdown",
   "metadata": {},
   "source": [
    "\n",
    "### Bellman Ford"
   ]
  },
  {
   "cell_type": "code",
   "execution_count": 8,
   "metadata": {},
   "outputs": [
    {
     "name": "stdout",
     "output_type": "stream",
     "text": [
      "Vertex Distance from the Source\n",
      "0\t\t0\n",
      "1\t\t-1\n",
      "2\t\t2\n",
      "3\t\t-2\n",
      "4\t\t1\n"
     ]
    }
   ],
   "source": [
    "# Belllmanford's algorithm\n",
    "# Works when graph has negative weights\n",
    "# Can be in any order as we are running V - 1 iterations\n",
    "# since longest path in a graph is V - 1\n",
    "\n",
    "class Graph:\n",
    "    def __init__(self, vertices: int):\n",
    "        # Number of vertices\n",
    "        self.V = vertices\n",
    "        self.graph = []\n",
    "\n",
    "    def addEdge(self, u, v, w):\n",
    "        self.graph.append([u, v, w])\n",
    "    \n",
    "    def printArr(self, dist):\n",
    "        print(\"Vertex Distance from the Source\")\n",
    "        for i in range(self.V):\n",
    "            print(f\"{i}\\t\\t{dist[i]}\")\n",
    "\n",
    "    def BelllmanFord(self, src):\n",
    "        dist = [float('inf')] * self.V\n",
    "        dist[src] = 0\n",
    "\n",
    "        # V-1 iterations\n",
    "        for _ in range(self.V-1):\n",
    "            for u, v , w in self.graph:\n",
    "                if dist[u] != float('inf') and dist[v] > dist[u] + w:\n",
    "                    dist[v] = dist[u] + w\n",
    "\n",
    "        for u, v, w in self.graph:\n",
    "            if dist[u] != float(\"inf\") and dist[v] > dist[u] + w:\n",
    "                print('Graph contains negative weight cycle')\n",
    "                return\n",
    "        self.printArr(dist)\n",
    "\n",
    "# ==========================================\n",
    "g = Graph(5)\n",
    "g.addEdge(0, 1, -1)\n",
    "g.addEdge(0, 2, 4)\n",
    "g.addEdge(1, 2, 3)\n",
    "g.addEdge(1, 3, 2)\n",
    "g.addEdge(1, 4, 2)\n",
    "g.addEdge(3, 2, 5)\n",
    "g.addEdge(3, 1, 1)\n",
    "g.addEdge(4, 3, -3)\n",
    "g.BelllmanFord(0)"
   ]
  },
  {
   "cell_type": "markdown",
   "metadata": {},
   "source": [
    "### Find Distance of each node from each node"
   ]
  },
  {
   "cell_type": "code",
   "execution_count": 41,
   "metadata": {},
   "outputs": [
    {
     "name": "stdout",
     "output_type": "stream",
     "text": [
      "0->1 visited False distnace matrix [0, 0, 0, 0, 0, 0]\n",
      "1->0 visited True distnace matrix [0, 1, 0, 0, 0, 0]\n",
      "0->2 visited False distnace matrix [0, 1, 0, 0, 0, 0]\n",
      "2->0 visited True distnace matrix [0, 1, 1, 0, 0, 0]\n",
      "2->3 visited False distnace matrix [0, 1, 1, 0, 0, 0]\n",
      "3->2 visited True distnace matrix [0, 1, 1, 2, 0, 0]\n",
      "2->4 visited False distnace matrix [0, 1, 1, 2, 0, 0]\n",
      "4->2 visited True distnace matrix [0, 1, 1, 2, 2, 0]\n",
      "2->5 visited False distnace matrix [0, 1, 1, 2, 2, 0]\n",
      "5->2 visited True distnace matrix [0, 1, 1, 2, 2, 2]\n",
      "**************************************************\n",
      "1->0 visited False distnace matrix [0, 0, 0, 0, 0, 0]\n",
      "0->1 visited True distnace matrix [1, 0, 0, 0, 0, 0]\n",
      "0->2 visited False distnace matrix [1, 0, 0, 0, 0, 0]\n",
      "2->0 visited True distnace matrix [1, 0, 2, 0, 0, 0]\n",
      "2->3 visited False distnace matrix [1, 0, 2, 0, 0, 0]\n",
      "3->2 visited True distnace matrix [1, 0, 2, 3, 0, 0]\n",
      "2->4 visited False distnace matrix [1, 0, 2, 3, 0, 0]\n",
      "4->2 visited True distnace matrix [1, 0, 2, 3, 3, 0]\n",
      "2->5 visited False distnace matrix [1, 0, 2, 3, 3, 0]\n",
      "5->2 visited True distnace matrix [1, 0, 2, 3, 3, 3]\n",
      "**************************************************\n",
      "2->0 visited False distnace matrix [0, 0, 0, 0, 0, 0]\n",
      "0->1 visited False distnace matrix [1, 0, 0, 0, 0, 0]\n",
      "1->0 visited True distnace matrix [1, 2, 0, 0, 0, 0]\n",
      "0->2 visited True distnace matrix [1, 2, 0, 0, 0, 0]\n",
      "2->3 visited False distnace matrix [1, 2, 0, 0, 0, 0]\n",
      "3->2 visited True distnace matrix [1, 2, 0, 1, 0, 0]\n",
      "2->4 visited False distnace matrix [1, 2, 0, 1, 0, 0]\n",
      "4->2 visited True distnace matrix [1, 2, 0, 1, 1, 0]\n",
      "2->5 visited False distnace matrix [1, 2, 0, 1, 1, 0]\n",
      "5->2 visited True distnace matrix [1, 2, 0, 1, 1, 1]\n",
      "**************************************************\n",
      "3->2 visited False distnace matrix [0, 0, 0, 0, 0, 0]\n",
      "2->0 visited False distnace matrix [0, 0, 1, 0, 0, 0]\n",
      "0->1 visited False distnace matrix [2, 0, 1, 0, 0, 0]\n",
      "1->0 visited True distnace matrix [2, 3, 1, 0, 0, 0]\n",
      "0->2 visited True distnace matrix [2, 3, 1, 0, 0, 0]\n",
      "2->3 visited True distnace matrix [2, 3, 1, 0, 0, 0]\n",
      "2->4 visited False distnace matrix [2, 3, 1, 0, 0, 0]\n",
      "4->2 visited True distnace matrix [2, 3, 1, 0, 2, 0]\n",
      "2->5 visited False distnace matrix [2, 3, 1, 0, 2, 0]\n",
      "5->2 visited True distnace matrix [2, 3, 1, 0, 2, 2]\n",
      "**************************************************\n",
      "4->2 visited False distnace matrix [0, 0, 0, 0, 0, 0]\n",
      "2->0 visited False distnace matrix [0, 0, 1, 0, 0, 0]\n",
      "0->1 visited False distnace matrix [2, 0, 1, 0, 0, 0]\n",
      "1->0 visited True distnace matrix [2, 3, 1, 0, 0, 0]\n",
      "0->2 visited True distnace matrix [2, 3, 1, 0, 0, 0]\n",
      "2->3 visited False distnace matrix [2, 3, 1, 0, 0, 0]\n",
      "3->2 visited True distnace matrix [2, 3, 1, 2, 0, 0]\n",
      "2->4 visited True distnace matrix [2, 3, 1, 2, 0, 0]\n",
      "2->5 visited False distnace matrix [2, 3, 1, 2, 0, 0]\n",
      "5->2 visited True distnace matrix [2, 3, 1, 2, 0, 2]\n",
      "**************************************************\n",
      "5->2 visited False distnace matrix [0, 0, 0, 0, 0, 0]\n",
      "2->0 visited False distnace matrix [0, 0, 1, 0, 0, 0]\n",
      "0->1 visited False distnace matrix [2, 0, 1, 0, 0, 0]\n",
      "1->0 visited True distnace matrix [2, 3, 1, 0, 0, 0]\n",
      "0->2 visited True distnace matrix [2, 3, 1, 0, 0, 0]\n",
      "2->3 visited False distnace matrix [2, 3, 1, 0, 0, 0]\n",
      "3->2 visited True distnace matrix [2, 3, 1, 2, 0, 0]\n",
      "2->4 visited False distnace matrix [2, 3, 1, 2, 0, 0]\n",
      "4->2 visited True distnace matrix [2, 3, 1, 2, 2, 0]\n",
      "2->5 visited True distnace matrix [2, 3, 1, 2, 2, 0]\n",
      "**************************************************\n"
     ]
    },
    {
     "data": {
      "text/plain": [
       "[8, 12, 6, 10, 10, 10]"
      ]
     },
     "execution_count": 41,
     "metadata": {},
     "output_type": "execute_result"
    }
   ],
   "source": [
    "# Performing DFS\n",
    "def dfs(graph, n):\n",
    "    d = [[0] * n for _ in range(n)]\n",
    "\n",
    "    for i in range(n):\n",
    "        visited = [False] * n\n",
    "        dist = d[i]\n",
    "        if visited[i] == False:\n",
    "            dfsRec(i, graph, visited, dist)\n",
    "        print(\"*\"*50)\n",
    "    return list(map(sum, d))\n",
    "\n",
    "def dfsRec(u, graph, visited, dist):\n",
    "    visited[u] = True\n",
    "    for v in graph[u]:\n",
    "        print(f\"{u}->{v} visited {visited[v]} distnace matrix {dist}\")\n",
    "        if visited[v] == False:\n",
    "            dist[v] = dist[u]+1\n",
    "            dfsRec(v, graph, visited, dist)\n",
    "            \n",
    "graph = [\n",
    "    [1,2],\n",
    "    [0],\n",
    "    [0,3,4,5],\n",
    "    [2],\n",
    "    [2],\n",
    "    [2]\n",
    "]\n",
    "\n",
    "dfs(graph, 6)\n",
    "\n"
   ]
  },
  {
   "cell_type": "markdown",
   "metadata": {},
   "source": [
    "### Articulation Point"
   ]
  },
  {
   "cell_type": "code",
   "execution_count": 25,
   "metadata": {},
   "outputs": [
    {
     "name": "stdout",
     "output_type": "stream",
     "text": [
      "Articulation Point in the first graph\n",
      "[-1, 0, 1, 0, 3] [0, 0, 0, 3, 4] [0, 1, 2, 3, 4]\t0 3 "
     ]
    }
   ],
   "source": [
    "from collections import defaultdict\n",
    "\n",
    "class Graph:\n",
    "    def __init__(self, vertices) -> None:\n",
    "        self.V = vertices\n",
    "        self.graph = defaultdict(list)\n",
    "        self.Time = 0 \n",
    "    \n",
    "    def addEdge(self, u, v):\n",
    "        self.graph[u].append(v)\n",
    "        self.graph[v].append(u)\n",
    "\n",
    "\n",
    "    def APUtil(self, u, visited, parent, ap, low, disc):\n",
    "        children=0\n",
    "        visited[u]=True\n",
    "        low[u]=disc[u]=self.Time\n",
    "        self.Time+=1\n",
    "        for v in self.graph[u]:\n",
    "            if visited[v] == False:\n",
    "                children+=1\n",
    "                parent[v]=u\n",
    "                self.APUtil(v, visited, parent, ap, low, disc)\n",
    "                low[u] = min(low[u], low[v])\n",
    "                if parent[u] == -1 and children>1:\n",
    "                    ap[u]=True\n",
    "                if parent[u] != -1 and low[v] >= disc[u]:\n",
    "                    ap[u] = True\n",
    "            elif v != parent[u]:\n",
    "                low[u] = min(low[u], disc[v])\n",
    "\n",
    "    def AP(self):\n",
    "        visited = [False] * self.V\n",
    "        ap = [False] * self.V\n",
    "        low = [float('inf')] * self.V\n",
    "        disc = [float('inf')] * self.V\n",
    "        parent = [-1] * self.V\n",
    "\n",
    "        for i in range(self.V):\n",
    "            if visited[i] == False:\n",
    "                self.APUtil(i, visited=visited, parent=parent, ap=ap, low=low, disc=disc)\n",
    "\n",
    "        print(parent, low, disc, end=\"\\t\")\n",
    "        for ind, val in enumerate(ap):\n",
    "            if val==True:\n",
    "                print(ind, end=\" \")\n",
    "\n",
    "\n",
    "\n",
    "g1 = Graph(5)\n",
    "g1.addEdge(1, 0)\n",
    "g1.addEdge(0, 2)\n",
    "g1.addEdge(2, 1)\n",
    "g1.addEdge(0, 3)\n",
    "g1.addEdge(3, 4)\n",
    "\n",
    "\n",
    "print(\"Articulation Point in the first graph\")\n",
    "g1.AP()                "
   ]
  },
  {
   "cell_type": "markdown",
   "metadata": {},
   "source": [
    "### Bridges In Graph"
   ]
  },
  {
   "cell_type": "code",
   "execution_count": 32,
   "metadata": {},
   "outputs": [
    {
     "name": "stdout",
     "output_type": "stream",
     "text": [
      "3->4 is an bridge\n",
      "0->3 is an bridge\n"
     ]
    }
   ],
   "source": [
    "from collections import defaultdict\n",
    "\n",
    "class graph:\n",
    "    def __init__(self, vertices):\n",
    "        self.V = vertices\n",
    "        self.graph = defaultdict(list)\n",
    "        self.Time = 0\n",
    "    def addEdge(self, u, v):\n",
    "        self.graph[u].append(v)\n",
    "        self.graph[v].append(u)\n",
    "    def BGUtil(self, u, visited, parent, low, disc):\n",
    "        visited[u] = True\n",
    "        low[u] = disc[u] = self.Time\n",
    "        self.Time+=1\n",
    "\n",
    "        for v in self.graph[u]:\n",
    "            if visited[v] == False:\n",
    "                parent[v] = u\n",
    "                self.BGUtil(v, visited, parent, low, disc)\n",
    "                low[u] = min(low[u], low[v])\n",
    "                # condition to check for bridge\n",
    "                if low[v] > disc[u]:\n",
    "                    print(f\"{u}->{v} is an bridge\")\n",
    "            elif v != parent[u]:\n",
    "                low[u] = min(low[u], disc[v])\n",
    "    def bridge(self):\n",
    "        visited = [False] * self.V\n",
    "        low = [float('inf')] * self.V\n",
    "        disc = [float('inf')] * self.V\n",
    "        parent = [-1] * self.V\n",
    "\n",
    "        for i in range(self.V):\n",
    "            if visited[i] == False:\n",
    "                self.BGUtil(i, visited, parent, low, disc)\n",
    "        \n",
    "g1 = graph(5)\n",
    "g1.addEdge(1, 0)\n",
    "g1.addEdge(0, 2)\n",
    "g1.addEdge(2, 1)\n",
    "g1.addEdge(0, 3)\n",
    "g1.addEdge(3, 4)\n",
    "\n",
    "g1.bridge()"
   ]
  },
  {
   "cell_type": "markdown",
   "metadata": {},
   "source": [
    "### Tarjan's Algo"
   ]
  },
  {
   "cell_type": "markdown",
   "metadata": {},
   "source": [
    "## Searching"
   ]
  },
  {
   "cell_type": "markdown",
   "metadata": {},
   "source": [
    "### Binary Search"
   ]
  },
  {
   "cell_type": "code",
   "execution_count": 5,
   "metadata": {},
   "outputs": [
    {
     "data": {
      "text/plain": [
       "-1"
      ]
     },
     "execution_count": 5,
     "metadata": {},
     "output_type": "execute_result"
    }
   ],
   "source": [
    "def binarySearch(arr: list[int], ele: int) -> int:\n",
    "    n = len(arr)\n",
    "    high = n-1\n",
    "    low = 0\n",
    "    while high >= low:\n",
    "        mid = (low+high)//2\n",
    "        if ele == arr[mid]:\n",
    "            return mid\n",
    "        elif ele < arr[mid]:\n",
    "            high = mid -1\n",
    "        else:\n",
    "            low = mid + 1\n",
    "\n",
    "    return -1\n",
    "\n",
    "arr = [1,2,3,4,5,6,7,8,9]\n",
    "ele = 20\n",
    "binarySearch(arr, ele)"
   ]
  },
  {
   "cell_type": "markdown",
   "metadata": {},
   "source": [
    "### Recursive Binary Search"
   ]
  },
  {
   "cell_type": "code",
   "execution_count": 17,
   "metadata": {},
   "outputs": [
    {
     "data": {
      "text/plain": [
       "0"
      ]
     },
     "execution_count": 17,
     "metadata": {},
     "output_type": "execute_result"
    }
   ],
   "source": [
    "def recurbinarySearch(arr, ele, low, high):\n",
    "    if low > high:\n",
    "        return -1\n",
    "    mid = (low + high) // 2 \n",
    "    if arr[mid]==ele:\n",
    "        return mid\n",
    "    elif arr[mid] > ele:\n",
    "        return recurbinarySearch(arr, ele, low, mid -1 )\n",
    "    else:\n",
    "        return recurbinarySearch(arr, ele, mid + 1, high )\n",
    "\n",
    "arr = [1,2,3,4,5,6,7,8,9]\n",
    "ele =1\n",
    "recurbinarySearch(arr, ele, 0, len(arr)-1)"
   ]
  },
  {
   "cell_type": "markdown",
   "metadata": {},
   "source": [
    "### First Occurence in a sorted arrya"
   ]
  },
  {
   "cell_type": "code",
   "execution_count": 3,
   "metadata": {},
   "outputs": [
    {
     "data": {
      "text/plain": [
       "0"
      ]
     },
     "execution_count": 3,
     "metadata": {},
     "output_type": "execute_result"
    }
   ],
   "source": [
    "def firstOccurence(arr, ele, low, high):\n",
    "    if low>high:\n",
    "        return -1\n",
    "    mid = (low+high)//2\n",
    "    if ele > arr[mid]:\n",
    "        return firstOccurence(arr, ele, mid+1, high)\n",
    "    elif ele < arr[mid]:\n",
    "        return firstOccurence(arr, ele, low, mid -1)\n",
    "    else:\n",
    "        if mid==0 or arr[mid-1] != arr[mid]:\n",
    "            return mid\n",
    "        else:\n",
    "            return firstOccurence(arr, ele, low, mid-1)\n",
    "arr =[2,2]\n",
    "ele = 2\n",
    "firstOccurence(arr, ele, 0, len(arr)-1)"
   ]
  },
  {
   "cell_type": "markdown",
   "metadata": {},
   "source": [
    "### Last Occurence in a sorted array"
   ]
  },
  {
   "cell_type": "code",
   "execution_count": 1,
   "metadata": {},
   "outputs": [
    {
     "data": {
      "text/plain": [
       "0"
      ]
     },
     "execution_count": 1,
     "metadata": {},
     "output_type": "execute_result"
    }
   ],
   "source": [
    "def lastOccurence(arr, ele, low, high):\n",
    "    if low>high:\n",
    "        return -1\n",
    "    mid = (low+high)//2\n",
    "    if ele > arr[mid]:\n",
    "        return lastOccurence(arr, ele, mid+1, high)\n",
    "    elif ele < arr[mid]:\n",
    "        return lastOccurence(arr, ele, low, mid -1)\n",
    "    else:\n",
    "        if mid==0 or arr[mid+1] != arr[mid]:\n",
    "            return mid\n",
    "        else:\n",
    "            return lastOccurence(arr, ele, mid+1, high)\n",
    "\n",
    "arr = [2,2]\n",
    "ele = 2\n",
    "lastOccurence(arr, ele, 0, len(arr)-1)"
   ]
  },
  {
   "cell_type": "code",
   "execution_count": 3,
   "metadata": {},
   "outputs": [
    {
     "data": {
      "text/plain": [
       "1"
      ]
     },
     "execution_count": 3,
     "metadata": {},
     "output_type": "execute_result"
    }
   ],
   "source": [
    "def lastOccurance(arr: list[int], ele: int, low: int, high: int)-> int:\n",
    "    if low>high:\n",
    "        return -1\n",
    "    mid = (low+high)//2\n",
    "    if ele > arr[mid]:\n",
    "        return lastOccurance(arr, ele, mid+1, high)\n",
    "    elif ele < arr[mid]:\n",
    "        return lastOccurance(arr, ele, low, mid-1)\n",
    "    else:\n",
    "        if mid==len(arr)-1 or arr[mid+1] != arr[mid]:\n",
    "            return mid\n",
    "        else:\n",
    "            return lastOccurance(arr, ele, mid+1, high)\n",
    "arr=[2,2]\n",
    "ele = 2\n",
    "lastOccurance(arr, ele, 0, len(arr)-1)"
   ]
  },
  {
   "cell_type": "markdown",
   "metadata": {},
   "source": [
    "### Count number of occurences in a sorted array"
   ]
  },
  {
   "cell_type": "code",
   "execution_count": 26,
   "metadata": {},
   "outputs": [
    {
     "data": {
      "text/plain": [
       "5"
      ]
     },
     "execution_count": 26,
     "metadata": {},
     "output_type": "execute_result"
    }
   ],
   "source": [
    "def countOccurecne(arr, ele):\n",
    "    low = 0\n",
    "    high = len(arr) -1 \n",
    "    first = firstOccurence(arr, ele, low, high)\n",
    "    if first == -1:\n",
    "        return 0\n",
    "    else: \n",
    "        return lastOccurence(arr, ele, low, high) - first + 1\n",
    " \n",
    "arr = [ 10, 20,20, 20, 20, 20, 30, 40, 60, 70, 80]\n",
    "ele = 20\n",
    "countOccurecne(arr, ele)"
   ]
  },
  {
   "cell_type": "markdown",
   "metadata": {},
   "source": [
    "### Finding Squareroot"
   ]
  },
  {
   "cell_type": "code",
   "execution_count": 34,
   "metadata": {},
   "outputs": [
    {
     "data": {
      "text/plain": [
       "3"
      ]
     },
     "execution_count": 34,
     "metadata": {},
     "output_type": "execute_result"
    }
   ],
   "source": [
    "def bsquareroot(x):\n",
    "    low =1\n",
    "    high = x\n",
    "    ans = -1 \n",
    "    while low <= high:\n",
    "        mid = (low + high) // 2\n",
    "        msq = mid * mid\n",
    "        if msq == x:\n",
    "            return mid\n",
    "        elif msq > x: \n",
    "            high = mid - 1\n",
    "        else:\n",
    "            low = mid + 1\n",
    "            ans = mid\n",
    "    return ans\n",
    "\n",
    "bsquareroot(15)"
   ]
  },
  {
   "cell_type": "markdown",
   "metadata": {},
   "source": [
    "## Sorting"
   ]
  },
  {
   "cell_type": "markdown",
   "metadata": {},
   "source": [
    "### Bubble Sort"
   ]
  },
  {
   "cell_type": "code",
   "execution_count": 41,
   "metadata": {},
   "outputs": [
    {
     "name": "stdout",
     "output_type": "stream",
     "text": [
      "[100, 90, 80, 70, 60, 50, 40, 30, 20]\n",
      "[20, 30, 40, 50, 60, 70, 80, 90, 100]\n"
     ]
    }
   ],
   "source": [
    "def bubbleSort(l: list[int]) -> None:\n",
    "    n = len(l)\n",
    "    for i in range(n-1):\n",
    "        for j in range(n-i-1):\n",
    "            if l[j] > l[j+1]:\n",
    "                l[j], l[j+1] = l[j+1], l[j]\n",
    "\n",
    "l = [x*10 for x in range(10, 1, -1)]\n",
    "print(l)\n",
    "bubbleSort(l)\n",
    "print(l)\n"
   ]
  },
  {
   "cell_type": "markdown",
   "metadata": {},
   "source": [
    "### Optimised Bubble Sort"
   ]
  },
  {
   "cell_type": "code",
   "execution_count": 42,
   "metadata": {},
   "outputs": [
    {
     "name": "stdout",
     "output_type": "stream",
     "text": [
      "[100, 90, 80, 70, 60, 50, 40, 30, 20, 1000, 1000000]\n",
      "[20, 30, 40, 50, 60, 70, 80, 90, 100, 1000, 1000000]\n"
     ]
    }
   ],
   "source": [
    "def optbubbleSort(l: list[int]) -> None:\n",
    "    n = len(l)\n",
    "    for i in range(n-1):\n",
    "        swap = True\n",
    "        for j in range(n-i-1):\n",
    "            if l[j] > l[j+1]:\n",
    "                l[j], l[j+1] = l[j+1], l[j]\n",
    "                swap=True\n",
    "        if swap==False:\n",
    "            return\n",
    "            \n",
    "l = [x*10 for x in range(10, 1, -1)] + [1000, 1000000]\n",
    "print(l)\n",
    "optbubbleSort(l)\n",
    "print(l)\n"
   ]
  },
  {
   "cell_type": "markdown",
   "metadata": {},
   "source": [
    "### Selection Sort"
   ]
  },
  {
   "cell_type": "code",
   "execution_count": 43,
   "metadata": {},
   "outputs": [
    {
     "name": "stdout",
     "output_type": "stream",
     "text": [
      "[100, 90, 80, 70, 60, 50, 40, 30, 20, 1000, 1000000]\n",
      "[20, 30, 40, 50, 60, 70, 80, 90, 100, 1000, 1000000]\n"
     ]
    }
   ],
   "source": [
    "def selectionSort(l: list[int]) -> None:\n",
    "    n = len(l)\n",
    "    for i in range(n-1):\n",
    "        min_ind = i\n",
    "        for j in range(i+1,n):\n",
    "            if l[j] < l[min_ind]:\n",
    "                min_ind=j\n",
    "        l[min_ind], l[i] = l[i], l[min_ind]\n",
    "\n",
    "l = [x*10 for x in range(10, 1, -1)]\n",
    "print(l)\n",
    "selectionSort(l)\n",
    "print(l)"
   ]
  },
  {
   "cell_type": "markdown",
   "metadata": {},
   "source": [
    "### Insertion Sort"
   ]
  },
  {
   "cell_type": "code",
   "execution_count": 44,
   "metadata": {},
   "outputs": [
    {
     "name": "stdout",
     "output_type": "stream",
     "text": [
      "[100, 90, 80, 70, 60, 50, 40, 30, 20]\n",
      "[20, 30, 40, 50, 60, 70, 80, 90, 100]\n"
     ]
    }
   ],
   "source": [
    "def intersertionSort(l: list[int])-> None:\n",
    "    n = len(l)\n",
    "    for i in range(1, n):\n",
    "        x = l[i]\n",
    "        j = i - 1\n",
    "        while j>=0 and x < l[j]:\n",
    "            l[j+1] = l[j]\n",
    "            j-=1\n",
    "        l[j+1] = x\n",
    "\n",
    "l = [x*10 for x in range(10, 1, -1)]\n",
    "print(l)\n",
    "intersertionSort(l)\n",
    "print(l)"
   ]
  },
  {
   "cell_type": "markdown",
   "metadata": {},
   "source": [
    "### Merge Sorted Arrays"
   ]
  },
  {
   "cell_type": "code",
   "execution_count": 52,
   "metadata": {},
   "outputs": [
    {
     "data": {
      "text/plain": [
       "[1, 2, 3, 4, 5, 6]"
      ]
     },
     "execution_count": 52,
     "metadata": {},
     "output_type": "execute_result"
    }
   ],
   "source": [
    "# Merge Sorted Elements\n",
    "def mergeSorteArrays(a: list[int], b: list[int])-> list[int]:\n",
    "    i = 0\n",
    "    j = 0\n",
    "    m = len(a)\n",
    "    n = len(b)\n",
    "    temp = []\n",
    "    while i < m and j < n:\n",
    "        if a[i] < b[j]:\n",
    "            temp.append(a[i])\n",
    "            i+=1\n",
    "        else:\n",
    "            temp.append(b[j])\n",
    "            j+=1\n",
    "    while i < m:\n",
    "        temp.append(a[i])\n",
    "        i+=1\n",
    "    while j < n:\n",
    "        temp.append(b[j])\n",
    "        j+=1\n",
    "    return temp\n",
    "\n",
    "a = [1, 5,6]\n",
    "b = [2,3,4]\n",
    "mergeSorteArrays(a, b)"
   ]
  },
  {
   "cell_type": "markdown",
   "metadata": {},
   "source": [
    "### Merge Subarrays"
   ]
  },
  {
   "cell_type": "code",
   "execution_count": 58,
   "metadata": {},
   "outputs": [
    {
     "name": "stdout",
     "output_type": "stream",
     "text": [
      "[10, 15, 20, 40, 8, 11, 55]\n",
      "[8, 10, 11, 15, 20, 40, 55]\n"
     ]
    }
   ],
   "source": [
    "def merge(l: list[int], low: int, mid: int, high: int)-> None:\n",
    "    left = a[low: mid+1]\n",
    "    right = a[mid+1: high]\n",
    "\n",
    "    i = 0\n",
    "    j = 0\n",
    "    k = low\n",
    "\n",
    "    m = len(left)\n",
    "    n = len(right)\n",
    "\n",
    "    while i < m and j < n:\n",
    "        if left[i] <= right[j]:\n",
    "            l[k] = left[i]\n",
    "            i+=1\n",
    "            k+=1\n",
    "        else:\n",
    "            l[k] = right[j]\n",
    "            j+=1\n",
    "            k+=1\n",
    "    while i < m:\n",
    "        l[k] = left[i]\n",
    "        i+=1\n",
    "        k+=1\n",
    "    while j < n:\n",
    "        l[k] = right[j]\n",
    "        j+=1\n",
    "        k+=1\n",
    "\n",
    "\n",
    "\n",
    "\n",
    "a = [10, 15, 20, 40, 8, 11, 55]\n",
    "print(a)\n",
    "merge(a, 0, 3, 6)\n",
    "print(a)"
   ]
  },
  {
   "cell_type": "markdown",
   "metadata": {},
   "source": [
    "### Merge Sort"
   ]
  },
  {
   "cell_type": "code",
   "execution_count": 60,
   "metadata": {},
   "outputs": [
    {
     "name": "stdout",
     "output_type": "stream",
     "text": [
      "[10, 15, 20, 40, 8, 11, 55]\n",
      "[8, 10, 11, 15, 20, 40, 55]\n"
     ]
    }
   ],
   "source": [
    "def mergeSort(arr: list[int], l: int, r: int)-> None:\n",
    "    if r>l:\n",
    "        m = (r+l)//2\n",
    "        mergeSort(arr, l, m)\n",
    "        mergeSort(arr, m+1, r)\n",
    "        merge(arr, l, m, r)\n",
    "\n",
    "\n",
    "a = [10, 15, 20, 40, 8, 11, 55]\n",
    "print(a)\n",
    "mergeSort(a, 0, 6)\n",
    "print(a)"
   ]
  },
  {
   "cell_type": "markdown",
   "metadata": {},
   "source": [
    "### Union of Two Sorted List"
   ]
  },
  {
   "cell_type": "code",
   "execution_count": 10,
   "metadata": {},
   "outputs": [
    {
     "data": {
      "text/plain": [
       "[2, 3, 10, 20, 40]"
      ]
     },
     "execution_count": 10,
     "metadata": {},
     "output_type": "execute_result"
    }
   ],
   "source": [
    "def unionSortedLists(a: list[int], b: list[int]) -> list[int]:\n",
    "    i = 0\n",
    "    j = 0\n",
    "    m = len(a)\n",
    "    n = len(b)\n",
    "    temp = []\n",
    "    while i < m and j < n:\n",
    "        if i > 0 and a[i] == a[i-1]:\n",
    "            i+=1\n",
    "        elif j > 0 and b[j] == b[j-1]:\n",
    "            j+=1\n",
    "        elif a[i] < b[j]:\n",
    "            temp.append(a[i])\n",
    "            i+=1\n",
    "        elif a[i] > b[j]:\n",
    "            temp.append(b[j])\n",
    "            j+=1\n",
    "        else:\n",
    "            temp.append(a[i])\n",
    "            i+=1\n",
    "            j+=1\n",
    "    while i < m :\n",
    "        if i > 0 and a[i]!=a[i-1]:\n",
    "            temp.append(a[i])\n",
    "            i+=1\n",
    "    while j < n :\n",
    "        if j > 0 and b[j]!=b[j-1]:\n",
    "            temp.append(b[j])\n",
    "            j+=1\n",
    "    return temp\n",
    "\n",
    "a = [2, 10, 20, 20]\n",
    "b = [3, 20, 40]\n",
    "unionSortedLists(a, b)"
   ]
  },
  {
   "cell_type": "markdown",
   "metadata": {},
   "source": [
    "### Intersection of Two Sorted Array"
   ]
  },
  {
   "cell_type": "code",
   "execution_count": 13,
   "metadata": {},
   "outputs": [
    {
     "data": {
      "text/plain": [
       "[20, 40]"
      ]
     },
     "execution_count": 13,
     "metadata": {},
     "output_type": "execute_result"
    }
   ],
   "source": [
    "def IntersectionSortedArray(a: list[int], b: list[int]) -> list[int]:\n",
    "    i  = j = 0\n",
    "    m = len(a)\n",
    "    n = len(b)\n",
    "    temp = []\n",
    "    while i < m and j < n:\n",
    "        if i > 0 and a[i-1] == a[i]:\n",
    "            i+=1\n",
    "            continue\n",
    "        if a[i] == b[j]:\n",
    "            temp.append(a[i])\n",
    "            i+=1\n",
    "            j+=1\n",
    "        if a[i] < b[j]:\n",
    "            i+=1\n",
    "        if a[i] > b[j]:\n",
    "            j+=1\n",
    "    return temp\n",
    "\n",
    "a = [ 10, 20, 20, 40, 60]\n",
    "b = [20, 20, 40, 50]\n",
    "\n",
    "IntersectionSortedArray(a, b)"
   ]
  },
  {
   "cell_type": "markdown",
   "metadata": {},
   "source": [
    "### Count Inversions in an Array"
   ]
  },
  {
   "cell_type": "code",
   "execution_count": 16,
   "metadata": {},
   "outputs": [
    {
     "data": {
      "text/plain": [
       "6"
      ]
     },
     "execution_count": 16,
     "metadata": {},
     "output_type": "execute_result"
    }
   ],
   "source": [
    "def countMerge(arr, l, m, r):\n",
    "\n",
    "    left = arr[l:m+1]\n",
    "    right = arr[m+1: r+1]\n",
    "    m_ = len(left)\n",
    "    n = len(right)\n",
    "    i,j,k,res=0,0,l,0\n",
    "\n",
    "    while i < m_ and j < n:\n",
    "        if left[i] <= right[j]:\n",
    "            arr[k]=left[i]\n",
    "            i+=1\n",
    "        else:\n",
    "            arr[k]=right[j]\n",
    "            j+=1\n",
    "            res += m_ - i\n",
    "        k+=1\n",
    "    while i < m_:\n",
    "        arr[k] = left[i]\n",
    "        i+=1\n",
    "        k+=1\n",
    "    while j < n:\n",
    "        arr[k] = right[j]\n",
    "        j+=1\n",
    "        k+=1\n",
    "\n",
    "    return res\n",
    "\n",
    "\n",
    "def countInversion(arr, l, r):\n",
    "    res = 0\n",
    "    if l < r:\n",
    "        m = ( l+r)//2\n",
    "        res+= countInversion(arr, l, m)\n",
    "        res+= countInversion(arr, m+1, r)\n",
    "        res+= countMerge(arr, l, m ,r)\n",
    "    return res\n",
    "\n",
    "\n",
    "arr =  [ 2, 5, 8, 11, 3, 6, 9, 13]\n",
    "countInversion(arr, 0, len(arr)-1)"
   ]
  },
  {
   "cell_type": "markdown",
   "metadata": {},
   "source": [
    "### Partition of Given Array"
   ]
  },
  {
   "cell_type": "code",
   "execution_count": 24,
   "metadata": {},
   "outputs": [
    {
     "name": "stdout",
     "output_type": "stream",
     "text": [
      "[10, 30, 20, 40, 70, 50, 90]\n"
     ]
    }
   ],
   "source": [
    "def lamutoPartition(arr, l, h):\n",
    "    i = l -1\n",
    "    pivot = arr[h-1]\n",
    "    for j in range(h):\n",
    "        if arr[j] < pivot:\n",
    "            i+=1\n",
    "            arr[i], arr[j] = arr[j], arr[i]\n",
    "    arr[h-1], arr[i+1] = arr[i+1], arr[h-1]\n",
    "    print(arr)\n",
    "arr = [10, 30, 70, 90, 20, 50, 40]\n",
    "lamutoPartition(arr, 0, len(arr))"
   ]
  },
  {
   "cell_type": "code",
   "execution_count": 34,
   "metadata": {},
   "outputs": [
    {
     "name": "stdout",
     "output_type": "stream",
     "text": [
      "3\n",
      "[1, 3, 2, 4, 8, 7, 5, 10]\n"
     ]
    }
   ],
   "source": [
    "def hoarePartition(arr, l, h):\n",
    "    pivot = arr[l]\n",
    "    i=l-1\n",
    "    j=h+1\n",
    "    while True:\n",
    "        i+=1\n",
    "        while arr[i] < pivot:\n",
    "            i+=1\n",
    "        j-=1\n",
    "        while arr[j] > pivot:\n",
    "            j-=1\n",
    "        if i>=j:\n",
    "            return j\n",
    "        arr[i], arr[j] = arr[j], arr[i]\n",
    "    \n",
    "arr = [5, 3, 8, 4, 2, 7, 1, 10]\n",
    "print(hoarePartition(arr, 0, len(arr)-1))\n",
    "print(arr)"
   ]
  },
  {
   "cell_type": "code",
   "execution_count": null,
   "metadata": {},
   "outputs": [],
   "source": []
  }
 ],
 "metadata": {
  "kernelspec": {
   "display_name": "base",
   "language": "python",
   "name": "python3"
  },
  "language_info": {
   "codemirror_mode": {
    "name": "ipython",
    "version": 3
   },
   "file_extension": ".py",
   "mimetype": "text/x-python",
   "name": "python",
   "nbconvert_exporter": "python",
   "pygments_lexer": "ipython3",
   "version": "3.11.5"
  }
 },
 "nbformat": 4,
 "nbformat_minor": 2
}
